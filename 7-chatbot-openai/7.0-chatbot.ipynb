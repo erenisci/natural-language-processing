{
 "cells": [
  {
   "cell_type": "markdown",
   "metadata": {},
   "source": []
  },
  {
   "cell_type": "markdown",
   "metadata": {},
   "source": [
    "---\n"
   ]
  },
  {
   "cell_type": "code",
   "execution_count": 8,
   "metadata": {},
   "outputs": [],
   "source": [
    "import os\n",
    "\n",
    "from dotenv import load_dotenv\n",
    "from openai import OpenAI\n",
    "\n",
    "load_dotenv()\n",
    "\n",
    "client = OpenAI(api_key=os.getenv(\"OPENAI_API_KEY\"))\n",
    "\n",
    "\n",
    "def chat_with_gpt(prompt):\n",
    "    response = client.chat.completions.create(\n",
    "        model=\"gpt-3.5-turbo\", messages=[{\"role\": \"user\", \"content\": prompt}]\n",
    "    )\n",
    "\n",
    "    return response.choices[0].message.content.strip()"
   ]
  },
  {
   "cell_type": "code",
   "execution_count": 11,
   "metadata": {},
   "outputs": [
    {
     "name": "stdout",
     "output_type": "stream",
     "text": [
      "User      : Hello\n",
      "Chatbot   : Hello! How can I assist you today?\n",
      "User      : Can you give me information about NLP?\n",
      "Chatbot   : Natural Language Processing (NLP) is a subfield of artificial intelligence and linguistics that focuses on the interactions between computers and human languages. It involves developing algorithms and models to enable computers to understand, interpret, and generate human language in a natural way. \n",
      "\n",
      "NLP technologies are used in a wide range of applications, such as chatbots, sentiment analysis, machine translation, speech recognition, and text summarization. Some common tasks in NLP include part-of-speech tagging, named entity recognition, language modeling, and machine learning-based language processing.\n",
      "\n",
      "NLP has made significant advancements in recent years, with the development of deep learning models such as Transformers and BERT that have achieved state-of-the-art performance in various language tasks. As NLP continues to evolve, it is becoming an increasingly important field in the development of intelligent systems and applications.\n",
      "Goodbye! 👋\n"
     ]
    }
   ],
   "source": [
    "if __name__ == \"__main__\":\n",
    "    while True:\n",
    "        user_input = input(\"User prompt:\")\n",
    "\n",
    "        if user_input.lower() in [\"exit\", \"q\"]:\n",
    "            print(\"Goodbye! 👋\")\n",
    "            break\n",
    "\n",
    "        response = chat_with_gpt(user_input)\n",
    "\n",
    "        print(f\"{\"User\":<10}: {user_input}\")\n",
    "        print(f\"{\"Chatbot\":<10}: {response}\")"
   ]
  }
 ],
 "metadata": {
  "kernelspec": {
   "display_name": "Python 3",
   "language": "python",
   "name": "python3"
  },
  "language_info": {
   "codemirror_mode": {
    "name": "ipython",
    "version": 3
   },
   "file_extension": ".py",
   "mimetype": "text/x-python",
   "name": "python",
   "nbconvert_exporter": "python",
   "pygments_lexer": "ipython3",
   "version": "3.12.5"
  }
 },
 "nbformat": 4,
 "nbformat_minor": 2
}
