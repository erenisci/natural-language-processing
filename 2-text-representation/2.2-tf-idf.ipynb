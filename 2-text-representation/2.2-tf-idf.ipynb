{
 "cells": [
  {
   "cell_type": "markdown",
   "metadata": {},
   "source": [
    "### Term Frequency - Inverse Document Frequency (TF-IDF)\n",
    "\n",
    "TF-IDF is a statistical method used to measure the importance of a word in a document. It considers the term frequency (TF) while balancing it with inverse document frequency (IDF) to reduce the impact of commonly occurring words (such as stop words)\n",
    "\n",
    "#### 1. Term Frequency (TF)\n",
    "\n",
    "$$\n",
    "TF(t, d) = \\frac{\\text{count of term } t \\text{ in document } d}{\\text{total number of unique words in document } d}\n",
    "$$\n",
    "\n",
    "#### 2. Inverse Document Frequency (IDF)\n",
    "\n",
    "$$\n",
    "IDF(t) = \\log \\left(\\frac{N}{1 + DF(t)}\\right)\n",
    "$$\n",
    "\n",
    "Where:\n",
    "\n",
    "- \\( N \\) = Total number of documents in the corpus.\n",
    "- \\( DF\\_(t) \\) = Number of documents that contain the term \\( t \\).\n",
    "- \\( 1 + DF(t) \\) prevents division by zero.\n",
    "\n",
    "#### 3. TF-IDF Calculation\n",
    "\n",
    "$$\n",
    "TF\\text{-}IDF(t, d) = TF(t, d) \\times IDF(t)\n",
    "$$\n"
   ]
  },
  {
   "cell_type": "markdown",
   "metadata": {},
   "source": [
    "---\n"
   ]
  },
  {
   "cell_type": "code",
   "execution_count": 11,
   "metadata": {},
   "outputs": [
    {
     "name": "stdout",
     "output_type": "stream",
     "text": [
      "        and    animal   animals       are       cat      cats     cute  \\\n",
      "0  0.000000  0.499221  0.000000  0.000000  0.499221  0.000000  0.35520   \n",
      "1  0.407824  0.000000  0.407824  0.407824  0.000000  0.407824  0.29017   \n",
      "\n",
      "       dogs        is     very  \n",
      "0  0.000000  0.499221  0.35520  \n",
      "1  0.407824  0.000000  0.29017  \n",
      "0.3226851472299316\n"
     ]
    }
   ],
   "source": [
    "import numpy as np\n",
    "import pandas as pd\n",
    "from sklearn.feature_extraction.text import TfidfVectorizer\n",
    "\n",
    "documents = [\"Cat is a very cute animal\", \"Cats and dogs are very cute animals\"]\n",
    "\n",
    "tfidf_vectorizer = TfidfVectorizer()\n",
    "\n",
    "X = tfidf_vectorizer.fit_transform(documents)\n",
    "feature_names = tfidf_vectorizer.get_feature_names_out()\n",
    "\n",
    "df_tfidf_example = pd.DataFrame(X.toarray(), columns=feature_names)\n",
    "print(df_tfidf_example)\n",
    "\n",
    "# Mean (cute)\n",
    "cute_tfidf = df_tfidf_example[\"cute\"]\n",
    "cute_mean_tfidf = np.mean(cute_tfidf)\n",
    "print(cute_mean_tfidf)"
   ]
  },
  {
   "cell_type": "markdown",
   "metadata": {},
   "source": [
    "---\n"
   ]
  },
  {
   "cell_type": "markdown",
   "metadata": {},
   "source": [
    "#### Real-Life Application of TF-IDF Using the Spam Dataset\n",
    "\n",
    "- The dataset link &rarr; [Spam_Dataset.csv](https://www.kaggle.com/datasets/uciml/sms-spam-collection-dataset)\n"
   ]
  },
  {
   "cell_type": "code",
   "execution_count": 3,
   "metadata": {},
   "outputs": [
    {
     "name": "stdout",
     "output_type": "stream",
     "text": [
      "            word  tfidf_score\n",
      "8583         you     0.044174\n",
      "7733          to     0.037040\n",
      "7604         the     0.026417\n",
      "4074          in     0.021997\n",
      "4920          me     0.021242\n",
      "...          ...          ...\n",
      "6095      proove     0.000013\n",
      "5982     praises     0.000013\n",
      "4832     makiing     0.000013\n",
      "1280  attraction     0.000013\n",
      "7054     sorrows     0.000013\n",
      "\n",
      "[8625 rows x 2 columns]\n"
     ]
    }
   ],
   "source": [
    "import pandas as pd\n",
    "from sklearn.feature_extraction.text import TfidfVectorizer\n",
    "\n",
    "# Getting the data\n",
    "df = pd.read_csv(\"../data/Spam_Dataset.csv\")\n",
    "\n",
    "vectorizer = TfidfVectorizer()\n",
    "\n",
    "X = vectorizer.fit_transform(df[\"v2\"])\n",
    "feature_names = vectorizer.get_feature_names_out()\n",
    "\n",
    "tfidf_score = X.mean(axis=0).A1  # Mean of tf-idf values\n",
    "df_tfidf = pd.DataFrame({\"word\": feature_names, \"tfidf_score\": tfidf_score})\n",
    "df_tfidf_score = df_tfidf.sort_values(by=\"tfidf_score\", ascending=False)\n",
    "print(df_tfidf_score)"
   ]
  }
 ],
 "metadata": {
  "kernelspec": {
   "display_name": "Python 3",
   "language": "python",
   "name": "python3"
  },
  "language_info": {
   "codemirror_mode": {
    "name": "ipython",
    "version": 3
   },
   "file_extension": ".py",
   "mimetype": "text/x-python",
   "name": "python",
   "nbconvert_exporter": "python",
   "pygments_lexer": "ipython3",
   "version": "3.12.5"
  }
 },
 "nbformat": 4,
 "nbformat_minor": 2
}
