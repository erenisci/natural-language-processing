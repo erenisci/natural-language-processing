{
 "cells": [
  {
   "cell_type": "markdown",
   "metadata": {},
   "source": [
    "### N-gram\n",
    "\n",
    "N-gram models are statistical language models used in Natural Language Processing (NLP). They analyze sequences of N consecutive words or characters in a text to understand the structure of the language.\n",
    "\n",
    "- Unigram (1-gram): Analyzes individual words.\n",
    "- Bigram (2-gram): Examines two-word sequences.\n",
    "- Trigram (3-gram): Analyzes three-word sequences.\n",
    "- N-gram: Represents sequences of N words or characters in general.\n",
    "\n",
    "![\"n-gram\"](../images/2/2-n-gram.png)\n"
   ]
  },
  {
   "cell_type": "markdown",
   "metadata": {},
   "source": [
    "---\n"
   ]
  },
  {
   "cell_type": "code",
   "execution_count": 1,
   "metadata": {},
   "outputs": [],
   "source": [
    "from sklearn.feature_extraction.text import CountVectorizer\n",
    "\n",
    "documents = [\n",
    "    \"This is an sample text\",\n",
    "    \"This sample text demonstrates the natural language processing\",\n",
    "]\n",
    "\n",
    "# Unigram, Bigram and Trigram -> CountVectorizer\n",
    "vectorizer_unigram = CountVectorizer(ngram_range=(1, 1))\n",
    "vectorizer_bigram = CountVectorizer(ngram_range=(2, 2))\n",
    "vectorizer_trigram = CountVectorizer(ngram_range=(3, 3))"
   ]
  },
  {
   "cell_type": "code",
   "execution_count": 2,
   "metadata": {},
   "outputs": [
    {
     "name": "stdout",
     "output_type": "stream",
     "text": [
      "unigram_features: ['an' 'demonstrates' 'is' 'language' 'natural' 'processing' 'sample'\n",
      " 'text' 'the' 'this']\n"
     ]
    }
   ],
   "source": [
    "# Unigram\n",
    "X_unigram = vectorizer_unigram.fit_transform(documents)\n",
    "unigram_features = vectorizer_unigram.get_feature_names_out()\n",
    "print(\"unigram_features:\", unigram_features)"
   ]
  },
  {
   "cell_type": "code",
   "execution_count": 3,
   "metadata": {},
   "outputs": [
    {
     "name": "stdout",
     "output_type": "stream",
     "text": [
      "bigram_features: ['an sample' 'demonstrates the' 'is an' 'language processing'\n",
      " 'natural language' 'sample text' 'text demonstrates' 'the natural'\n",
      " 'this is' 'this sample']\n"
     ]
    }
   ],
   "source": [
    "# Bigram\n",
    "X_bigram = vectorizer_bigram.fit_transform(documents)\n",
    "bigram_features = vectorizer_bigram.get_feature_names_out()\n",
    "print(\"bigram_features:\", bigram_features)"
   ]
  },
  {
   "cell_type": "code",
   "execution_count": 4,
   "metadata": {},
   "outputs": [
    {
     "name": "stdout",
     "output_type": "stream",
     "text": [
      "trigram_features: ['an sample text' 'demonstrates the natural' 'is an sample'\n",
      " 'natural language processing' 'sample text demonstrates'\n",
      " 'text demonstrates the' 'the natural language' 'this is an'\n",
      " 'this sample text']\n"
     ]
    }
   ],
   "source": [
    "# Trigram\n",
    "X_trigram = vectorizer_trigram.fit_transform(documents)\n",
    "trigram_features = vectorizer_trigram.get_feature_names_out()\n",
    "print(\"trigram_features:\", trigram_features)"
   ]
  }
 ],
 "metadata": {
  "kernelspec": {
   "display_name": "Python 3",
   "language": "python",
   "name": "python3"
  },
  "language_info": {
   "codemirror_mode": {
    "name": "ipython",
    "version": 3
   },
   "file_extension": ".py",
   "mimetype": "text/x-python",
   "name": "python",
   "nbconvert_exporter": "python",
   "pygments_lexer": "ipython3",
   "version": "3.12.5"
  }
 },
 "nbformat": 4,
 "nbformat_minor": 2
}
