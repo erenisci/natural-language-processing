{
 "cells": [
  {
   "cell_type": "markdown",
   "metadata": {},
   "source": [
    "### Text Summarization (w/ Transformers)\n",
    "\n",
    "Text Summarization is the process of reducing a long piece of text into a shorter version, retaining the most important information. This is a key task in Natural Language Processing (NLP) and is useful in applications such as news aggregation, document summarization, and content recommendation.\n",
    "\n",
    "![\"text-summarization\"](../images/6/6-text-summarization.png)\n",
    "\n",
    "#### Types of Text Summarization\n",
    "\n",
    "1. **Extractive Summarization**: This approach involves selecting the most important sentences, phrases, or segments directly from the original text. The system identifies key sentences and uses them as a summary, preserving the exact wording from the source.\n",
    "\n",
    "   - Example: Given an article about climate change, the system might select sentences like \"Climate change is a pressing issue\" and \"Global warming is a major factor\" to create a summary.\n",
    "\n",
    "2. **Abstractive Summarization**: Unlike extractive summarization, abstractive summarization generates new sentences that paraphrase the original text while retaining the core meaning. This method requires more advanced techniques like deep learning and can create summaries that are more natural and concise.\n",
    "\n",
    "   - Example: For an article about climate change, an abstractive summary might be: \"Climate change is a serious environmental issue caused by global warming.\"\n",
    "\n",
    "3. **Hybrid Summarization**: Hybrid methods combine extractive and abstractive summarization to achieve better results. The system first extracts key sentences and then generates paraphrased content to create a more coherent and concise summary.\n",
    "\n",
    "#### Example of Text Summarization\n",
    "\n",
    "- **Original Text**: \"The human brain is one of the most complex organs in the body. It controls various functions such as movement, memory, and thought. The brain is made up of billions of neurons that communicate with each other through electrical signals. Scientists have studied the brain for centuries, yet many aspects of its function remain a mystery.\"\n",
    "- **Extractive Summary**: \"The brain controls various functions such as movement, memory, and thought. The brain is made up of billions of neurons that communicate with each other.\"\n",
    "- **Abstractive Summary**: \"The human brain is a complex organ that controls essential functions, including movement and memory.\"\n",
    "\n",
    "#### Challenges in Text Summarization\n",
    "\n",
    "- **Preserving Meaning**: It’s important that the summary retains the original meaning and context of the text. Summarization methods must ensure that critical information is not lost or misrepresented.\n",
    "- **Fluency and Coherence**: Especially in abstractive summarization, the generated summary should be coherent and fluent, with a logical flow of ideas. Inaccurate paraphrasing can lead to confusing or nonsensical summaries.\n",
    "\n",
    "- **Content Selection**: In extractive summarization, selecting the most relevant content can be tricky, especially in longer documents. The system needs to identify the most critical sentences without leaving out essential information.\n",
    "\n",
    "- **Handling Long Texts**: For long documents, especially those with multiple sections, it can be difficult to identify the most important parts and ensure the summary is concise while covering all key points.\n",
    "\n",
    "#### Modern Approaches in Text Summarization\n",
    "\n",
    "- **Deep Learning Models**: Advanced neural networks such as sequence-to-sequence (Seq2Seq) models and transformers (e.g., BERT, T5) are widely used for abstractive summarization. These models learn complex relationships between words and can generate high-quality summaries that capture the essence of the original text.\n",
    "- **Transformers**: Transformer models, such as BERT and GPT, have been fine-tuned for summarization tasks and produce state-of-the-art results. They allow the model to capture long-range dependencies in text, which is crucial for creating coherent and accurate summaries.\n",
    "\n",
    "- **Pretrained Language Models**: Models like T5 and BART are pretrained on large corpora and fine-tuned specifically for text summarization tasks. These models are effective at both extractive and abstractive summarization.\n"
   ]
  },
  {
   "cell_type": "markdown",
   "metadata": {},
   "source": [
    "---\n"
   ]
  },
  {
   "cell_type": "code",
   "execution_count": 8,
   "metadata": {},
   "outputs": [],
   "source": [
    "from transformers import pipeline\n",
    "\n",
    "summarizer = pipeline(\"summarization\", model=\"sshleifer/distilbart-cnn-12-6\")\n",
    "\n",
    "text = \"\"\"\n",
    "Artificial intelligence (AI) refers to the simulation of human intelligence in machines that are programmed to think, learn, and perform tasks that would normally require human intelligence. AI systems are powered by algorithms, using techniques such as machine learning and deep learning, and are used in a variety of applications, from natural language processing to robotics. Machine learning is a subset of AI that allows computers to learn from data and make decisions based on that data. Deep learning, a more advanced form of machine learning, uses neural networks to model complex patterns in large amounts of data. AI is increasingly used in industries such as healthcare, finance, and transportation to automate processes, improve efficiency, and make more accurate predictions.\n",
    "\"\"\""
   ]
  },
  {
   "cell_type": "code",
   "execution_count": 9,
   "metadata": {},
   "outputs": [
    {
     "name": "stdout",
     "output_type": "stream",
     "text": [
      " Artificial intelligence (AI) refers to the simulation of human intelligence in machines that are programmed to think, learn, and perform tasks that would normally require human intelligence . AI systems are powered by algorithms, using techniques such as machine learning and deep learning .\n"
     ]
    }
   ],
   "source": [
    "summary = summarizer(text, max_length=100, min_length=30, do_sample=False)\n",
    "print(summary[0][\"summary_text\"])"
   ]
  },
  {
   "cell_type": "code",
   "execution_count": 10,
   "metadata": {},
   "outputs": [
    {
     "name": "stdout",
     "output_type": "stream",
     "text": [
      " AI systems are powered by algorithms, using techniques such as machine learning and deep learning . Machine learning is a subset of AI that allows computers to learn from data . AI is increasingly used in industries such as healthcare, finance, and transportation .\n"
     ]
    }
   ],
   "source": [
    "summary = summarizer(text, max_length=100, min_length=30, do_sample=True)\n",
    "print(summary[0][\"summary_text\"])"
   ]
  }
 ],
 "metadata": {
  "kernelspec": {
   "display_name": "Python 3",
   "language": "python",
   "name": "python3"
  },
  "language_info": {
   "codemirror_mode": {
    "name": "ipython",
    "version": 3
   },
   "file_extension": ".py",
   "mimetype": "text/x-python",
   "name": "python",
   "nbconvert_exporter": "python",
   "pygments_lexer": "ipython3",
   "version": "3.12.5"
  }
 },
 "nbformat": 4,
 "nbformat_minor": 2
}
