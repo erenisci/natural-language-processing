{
 "cells": [
  {
   "cell_type": "markdown",
   "metadata": {},
   "source": [
    "### Reccomendation Systems (w/ Neural Networks - Machine Learning)\n",
    "\n",
    "Recommendation Systems are algorithms used to suggest items to users based on various factors, such as past behavior, preferences, or the behavior of similar users. These systems are widely used in e-commerce, entertainment platforms, social media, and other areas to enhance user experience by providing personalized suggestions.\n",
    "\n",
    "![\"reccomendation-systems\"](../images/6/6-reccomendation-systems.png)\n",
    "\n",
    "#### Types of Recommendation Systems\n",
    "\n",
    "1. **Collaborative Filtering**: This approach relies on the past behavior of users, such as their interactions with items (e.g., ratings, clicks, purchases). It suggests items based on what similar users have liked or interacted with.\n",
    "\n",
    "   - **User-Based Collaborative Filtering**: Suggests items to a user based on the preferences of similar users.\n",
    "     - Example: \"User A likes movies X, Y, Z. User B likes Y, Z, W. Thus, User A may like W.\"\n",
    "   - **Item-Based Collaborative Filtering**: Suggests items similar to those a user has already liked or interacted with.\n",
    "     - Example: \"User A liked movie X, so other users who liked X also liked movie Y. Therefore, recommend movie Y to User A.\"\n",
    "\n",
    "2. **Content-Based Filtering**: This method recommends items that are similar to those the user has liked before, based on item features. For instance, if a user has liked action movies, the system will suggest other action movies.\n",
    "\n",
    "   - Example: \"User liked action movie A, so recommend other action movies like B, C, and D.\"\n",
    "\n",
    "3. **Hybrid Methods**: Combines collaborative filtering and content-based filtering to enhance recommendation quality. Hybrid methods aim to overcome the limitations of each individual approach.\n",
    "\n",
    "   - Example: A system could use collaborative filtering for general recommendations and content-based filtering to refine suggestions based on the user's preferences.\n",
    "\n",
    "4. **Knowledge-Based Recommendation**: This approach provides recommendations based on specific user preferences or requirements. Unlike collaborative filtering, it does not require past behavior but uses explicit input from the user to make recommendations.\n",
    "   - Example: \"User needs a smartphone with a good camera, so recommend smartphones that meet this specific feature.\"\n",
    "\n",
    "#### Example of Recommendation Systems\n",
    "\n",
    "- **E-commerce**: Recommending products like clothing, electronics, or books based on previous purchases or items viewed.\n",
    "- **Movie Platforms**: Recommending movies or TV shows on platforms like Netflix based on what the user has watched before.\n",
    "- **Social Media**: Suggesting friends, pages, or posts based on user activity and interests.\n",
    "\n",
    "#### Challenges in Recommendation Systems\n",
    "\n",
    "- **Cold Start Problem**: This occurs when a new user or item enters the system, and there is not enough data to provide recommendations.\n",
    "  - Example: A new movie without ratings or a new user with no past behavior.\n",
    "- **Scalability**: As the number of users and items grows, the system must be able to handle large-scale data efficiently.\n",
    "- **Diversity and Serendipity**: Ensuring recommendations are diverse and not just limited to the most obvious suggestions, which could lead to a lack of variety.\n",
    "\n",
    "#### Modern Approaches in Recommendation Systems\n",
    "\n",
    "- **Deep Learning**: Neural networks and deep learning models can be applied to recommendation tasks to learn complex patterns in user behavior and item features. Examples include using deep learning for collaborative filtering or learning item embeddings for content-based filtering.\n",
    "- **Reinforcement Learning**: Some recommendation systems use reinforcement learning, where the model continuously learns and adapts based on user interactions to maximize long-term engagement or satisfaction.\n"
   ]
  },
  {
   "cell_type": "markdown",
   "metadata": {},
   "source": [
    "---\n"
   ]
  },
  {
   "cell_type": "code",
   "execution_count": 17,
   "metadata": {},
   "outputs": [],
   "source": [
    "# Import libraries\n",
    "import numpy as np\n",
    "import tensorflow as tf\n",
    "from sklearn.model_selection import train_test_split\n",
    "from tensorflow.keras.layers import Dense, Dot, Embedding, Flatten, Input\n",
    "from tensorflow.keras.models import Model\n",
    "from tensorflow.keras.optimizers import Adam\n",
    "\n",
    "# Create Dataset: User - Item - Ratings\n",
    "user_ids = np.array([0, 1, 2, 3, 4, 0, 1, 2, 3, 4])\n",
    "item_ids = np.array([0, 1, 2, 3, 4, 5, 2, 3, 4, 5])\n",
    "ratings = np.array([5, 4, 3, 2, 1, 4, 5, 2, 3, 4])\n",
    "\n",
    "# Train-Test split\n",
    "(\n",
    "    user_ids_train,\n",
    "    user_ids_test,\n",
    "    item_ids_train,\n",
    "    item_ids_test,\n",
    "    ratings_train,\n",
    "    ratings_test,\n",
    ") = train_test_split(user_ids, item_ids, ratings, test_size=0.2, random_state=42)\n",
    "\n",
    "\n",
    "# Create NN Model\n",
    "def create_model(num_users, num_items, embedding_dim):\n",
    "    user_input = Input(shape=(1,), name=\"user\")\n",
    "    item_input = Input(shape=(1,), name=\"item\")\n",
    "\n",
    "    user_embedding = Embedding(\n",
    "        input_dim=num_users, output_dim=embedding_dim, name=\"user_embedding\"\n",
    "    )(user_input)\n",
    "    item_embedding = Embedding(\n",
    "        input_dim=num_items, output_dim=embedding_dim, name=\"item_embedding\"\n",
    "    )(item_input)\n",
    "\n",
    "    user_vecs = Flatten()(user_embedding)\n",
    "    item_vecs = Flatten()(item_embedding)\n",
    "\n",
    "    dot_product = Dot(axes=1)([user_vecs, item_vecs])\n",
    "    output = Dense(1)(dot_product)\n",
    "\n",
    "    model = Model(inputs=[user_input, item_input], outputs=output)\n",
    "    model.compile(optimizer=Adam(learning_rate=0.01), loss=\"mean_squared_error\")\n",
    "\n",
    "    return model"
   ]
  },
  {
   "cell_type": "code",
   "execution_count": 21,
   "metadata": {},
   "outputs": [
    {
     "name": "stdout",
     "output_type": "stream",
     "text": [
      "Epoch 1/15\n",
      "\u001b[1m1/1\u001b[0m \u001b[32m━━━━━━━━━━━━━━━━━━━━\u001b[0m\u001b[37m\u001b[0m \u001b[1m1s\u001b[0m 783ms/step - loss: 10.7175 - val_loss: 24.9340\n",
      "Epoch 2/15\n",
      "\u001b[1m1/1\u001b[0m \u001b[32m━━━━━━━━━━━━━━━━━━━━\u001b[0m\u001b[37m\u001b[0m \u001b[1m0s\u001b[0m 91ms/step - loss: 10.6300 - val_loss: 24.8432\n",
      "Epoch 3/15\n",
      "\u001b[1m1/1\u001b[0m \u001b[32m━━━━━━━━━━━━━━━━━━━━\u001b[0m\u001b[37m\u001b[0m \u001b[1m0s\u001b[0m 90ms/step - loss: 10.5397 - val_loss: 24.7567\n",
      "Epoch 4/15\n",
      "\u001b[1m1/1\u001b[0m \u001b[32m━━━━━━━━━━━━━━━━━━━━\u001b[0m\u001b[37m\u001b[0m \u001b[1m0s\u001b[0m 91ms/step - loss: 10.4438 - val_loss: 24.6724\n",
      "Epoch 5/15\n",
      "\u001b[1m1/1\u001b[0m \u001b[32m━━━━━━━━━━━━━━━━━━━━\u001b[0m\u001b[37m\u001b[0m \u001b[1m0s\u001b[0m 90ms/step - loss: 10.3398 - val_loss: 24.5893\n",
      "Epoch 6/15\n",
      "\u001b[1m1/1\u001b[0m \u001b[32m━━━━━━━━━━━━━━━━━━━━\u001b[0m\u001b[37m\u001b[0m \u001b[1m0s\u001b[0m 101ms/step - loss: 10.2254 - val_loss: 24.5072\n",
      "Epoch 7/15\n",
      "\u001b[1m1/1\u001b[0m \u001b[32m━━━━━━━━━━━━━━━━━━━━\u001b[0m\u001b[37m\u001b[0m \u001b[1m0s\u001b[0m 111ms/step - loss: 10.0991 - val_loss: 24.4260\n",
      "Epoch 8/15\n",
      "\u001b[1m1/1\u001b[0m \u001b[32m━━━━━━━━━━━━━━━━━━━━\u001b[0m\u001b[37m\u001b[0m \u001b[1m0s\u001b[0m 101ms/step - loss: 9.9598 - val_loss: 24.3456\n",
      "Epoch 9/15\n",
      "\u001b[1m1/1\u001b[0m \u001b[32m━━━━━━━━━━━━━━━━━━━━\u001b[0m\u001b[37m\u001b[0m \u001b[1m0s\u001b[0m 92ms/step - loss: 9.8068 - val_loss: 24.2660\n",
      "Epoch 10/15\n",
      "\u001b[1m1/1\u001b[0m \u001b[32m━━━━━━━━━━━━━━━━━━━━\u001b[0m\u001b[37m\u001b[0m \u001b[1m0s\u001b[0m 92ms/step - loss: 9.6395 - val_loss: 24.1873\n",
      "Epoch 11/15\n",
      "\u001b[1m1/1\u001b[0m \u001b[32m━━━━━━━━━━━━━━━━━━━━\u001b[0m\u001b[37m\u001b[0m \u001b[1m0s\u001b[0m 93ms/step - loss: 9.4572 - val_loss: 24.1094\n",
      "Epoch 12/15\n",
      "\u001b[1m1/1\u001b[0m \u001b[32m━━━━━━━━━━━━━━━━━━━━\u001b[0m\u001b[37m\u001b[0m \u001b[1m0s\u001b[0m 106ms/step - loss: 9.2592 - val_loss: 24.0324\n",
      "Epoch 13/15\n",
      "\u001b[1m1/1\u001b[0m \u001b[32m━━━━━━━━━━━━━━━━━━━━\u001b[0m\u001b[37m\u001b[0m \u001b[1m0s\u001b[0m 118ms/step - loss: 9.0449 - val_loss: 23.9563\n",
      "Epoch 14/15\n",
      "\u001b[1m1/1\u001b[0m \u001b[32m━━━━━━━━━━━━━━━━━━━━\u001b[0m\u001b[37m\u001b[0m \u001b[1m0s\u001b[0m 103ms/step - loss: 8.8137 - val_loss: 23.8813\n",
      "Epoch 15/15\n",
      "\u001b[1m1/1\u001b[0m \u001b[32m━━━━━━━━━━━━━━━━━━━━\u001b[0m\u001b[37m\u001b[0m \u001b[1m0s\u001b[0m 125ms/step - loss: 8.5653 - val_loss: 23.8072\n"
     ]
    },
    {
     "data": {
      "text/plain": [
       "<keras.src.callbacks.history.History at 0x1f4274f1640>"
      ]
     },
     "execution_count": 21,
     "metadata": {},
     "output_type": "execute_result"
    }
   ],
   "source": [
    "# Train NN Model\n",
    "num_users = 5\n",
    "num_items = 6\n",
    "embedding_dim = 8\n",
    "model = create_model(num_users, num_items, embedding_dim)\n",
    "model.fit(\n",
    "    [user_ids_train, item_ids_train],\n",
    "    ratings_train,\n",
    "    epochs=15,\n",
    "    verbose=1,\n",
    "    validation_split=0.1,\n",
    ")"
   ]
  },
  {
   "cell_type": "code",
   "execution_count": 22,
   "metadata": {},
   "outputs": [
    {
     "name": "stdout",
     "output_type": "stream",
     "text": [
      "\u001b[1m1/1\u001b[0m \u001b[32m━━━━━━━━━━━━━━━━━━━━\u001b[0m\u001b[37m\u001b[0m \u001b[1m0s\u001b[0m 37ms/step - loss: 11.4060\n",
      "Test loss: 11.405951499938965\n",
      "\u001b[1m1/1\u001b[0m \u001b[32m━━━━━━━━━━━━━━━━━━━━\u001b[0m\u001b[37m\u001b[0m \u001b[1m0s\u001b[0m 82ms/step\n",
      "Predicted rating for user 0, item: 0, 0.45\n"
     ]
    }
   ],
   "source": [
    "# Test-Evaluation\n",
    "loss = model.evaluate([user_ids_test, item_ids_test], ratings_test)\n",
    "print(\"Test loss:\", loss)\n",
    "\n",
    "# Reccomendation Test\n",
    "user_id = np.array([0])\n",
    "item_id = np.array([0])\n",
    "prediction = model.predict([user_id, item_id])\n",
    "print(\n",
    "    f\"Predicted rating for user {user_id[0]}, item: {item_id[0]}, {prediction[0][0]:.2f}\"\n",
    ")"
   ]
  }
 ],
 "metadata": {
  "kernelspec": {
   "display_name": "Python 3",
   "language": "python",
   "name": "python3"
  },
  "language_info": {
   "codemirror_mode": {
    "name": "ipython",
    "version": 3
   },
   "file_extension": ".py",
   "mimetype": "text/x-python",
   "name": "python",
   "nbconvert_exporter": "python",
   "pygments_lexer": "ipython3",
   "version": "3.12.5"
  }
 },
 "nbformat": 4,
 "nbformat_minor": 2
}
