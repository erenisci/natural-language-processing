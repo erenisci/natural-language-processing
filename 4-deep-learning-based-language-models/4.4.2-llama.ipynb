{
 "cells": [
  {
   "cell_type": "markdown",
   "metadata": {},
   "source": [
    "### LLaMA (Large Language Model Meta AI)\n",
    "\n",
    "**LLaMA** is a series of large language models developed by Meta (formerly Facebook). LLaMA models are built on the **Transformer** architecture and are designed to be more efficient and flexible compared to other large-scale language models. They are trained on massive datasets and have a very high parameter count, which helps them achieve strong performance in various language modeling tasks.\n",
    "\n",
    "#### LLaMA Architecture\n",
    "\n",
    "- LLaMA is based on the **Transformer** architecture, similar to models like BERT and GPT, but it focuses on **efficiency** and scalability in training large models.\n",
    "- Unlike GPT, which is autoregressive, LLaMA can be used for a variety of tasks, including those requiring bidirectional context understanding, making it versatile.\n",
    "- LLaMA uses a **decoder-only architecture**, similar to GPT, but it is optimized for better performance with a larger scale of data and parameters.\n",
    "\n",
    "![\"llama\"](../images/4/4-llama.png)\n",
    "\n",
    "#### LLaMA Features\n",
    "\n",
    "- **Efficient Training**: LLaMA models are optimized for efficient training on large datasets. Meta's goal is to develop large language models that require fewer resources while still achieving high accuracy and scalability.\n",
    "- **Scalable Models**: LLaMA is designed to scale well across a wide range of model sizes, making it adaptable to different computational resources and use cases.\n",
    "- **Large-scale Pretraining**: LLaMA models are trained on vast amounts of text data, which enables them to learn a wide range of linguistic patterns and contextual knowledge.\n",
    "- **Versatile Use Cases**: LLaMA models can be applied to various NLP tasks, such as text generation, question answering, summarization, and more, due to their ability to handle complex language understanding and generation tasks.\n",
    "- **High Parameter Count**: LLaMA models have a large number of parameters, which helps them capture detailed linguistic patterns and perform well on tasks that require deep language understanding.\n",
    "\n",
    "LLaMA is aimed at providing a more efficient alternative to large-scale language models like GPT and BERT, offering strong performance without requiring excessive computational resources.\n"
   ]
  },
  {
   "cell_type": "markdown",
   "metadata": {},
   "source": [
    "---\n"
   ]
  },
  {
   "cell_type": "code",
   "execution_count": 3,
   "metadata": {},
   "outputs": [],
   "source": [
    "from transformers import AutoTokenizer, AutoModelForCausalLM"
   ]
  },
  {
   "cell_type": "code",
   "execution_count": 5,
   "metadata": {},
   "outputs": [
    {
     "data": {
      "application/vnd.jupyter.widget-view+json": {
       "model_id": "24dd5f3b437c472b880d26f2f2d4814e",
       "version_major": 2,
       "version_minor": 0
      },
      "text/plain": [
       "Downloading shards:   0%|          | 0/2 [00:00<?, ?it/s]"
      ]
     },
     "metadata": {},
     "output_type": "display_data"
    },
    {
     "data": {
      "application/vnd.jupyter.widget-view+json": {
       "model_id": "9fa7c3ea51024a9794551ad3804f1cb1",
       "version_major": 2,
       "version_minor": 0
      },
      "text/plain": [
       "model-00002-of-00002.safetensors:   0%|          | 0.00/3.50G [00:00<?, ?B/s]"
      ]
     },
     "metadata": {},
     "output_type": "display_data"
    },
    {
     "data": {
      "application/vnd.jupyter.widget-view+json": {
       "model_id": "98a3cfb5cf3e4c608d20ce9b60a7deb5",
       "version_major": 2,
       "version_minor": 0
      },
      "text/plain": [
       "Loading checkpoint shards:   0%|          | 0/2 [00:00<?, ?it/s]"
      ]
     },
     "metadata": {},
     "output_type": "display_data"
    },
    {
     "data": {
      "application/vnd.jupyter.widget-view+json": {
       "model_id": "0fae36e5db794772b1953136672d7c35",
       "version_major": 2,
       "version_minor": 0
      },
      "text/plain": [
       "tokenizer_config.json:   0%|          | 0.00/2.28k [00:00<?, ?B/s]"
      ]
     },
     "metadata": {},
     "output_type": "display_data"
    },
    {
     "data": {
      "application/vnd.jupyter.widget-view+json": {
       "model_id": "d58c6a0cd2dd49b88356105452586148",
       "version_major": 2,
       "version_minor": 0
      },
      "text/plain": [
       "tokenizer.model:   0%|          | 0.00/500k [00:00<?, ?B/s]"
      ]
     },
     "metadata": {},
     "output_type": "display_data"
    },
    {
     "data": {
      "application/vnd.jupyter.widget-view+json": {
       "model_id": "ed957b6b189d4e618f745dc5bccd66e1",
       "version_major": 2,
       "version_minor": 0
      },
      "text/plain": [
       "tokenizer.json:   0%|          | 0.00/1.84M [00:00<?, ?B/s]"
      ]
     },
     "metadata": {},
     "output_type": "display_data"
    },
    {
     "data": {
      "application/vnd.jupyter.widget-view+json": {
       "model_id": "80b9c2e404cd4589952b68a156dd1f35",
       "version_major": 2,
       "version_minor": 0
      },
      "text/plain": [
       "special_tokens_map.json:   0%|          | 0.00/411 [00:00<?, ?B/s]"
      ]
     },
     "metadata": {},
     "output_type": "display_data"
    }
   ],
   "source": [
    "# Model and Tokenizer\n",
    "model_name = \"huggyllama/llama-7b\"\n",
    "model = AutoModelForCausalLM.from_pretrained(pretrained_model_name_or_path=model_name)\n",
    "tokenizer = AutoTokenizer.from_pretrained(pretrained_model_name_or_path=model_name)"
   ]
  },
  {
   "cell_type": "code",
   "execution_count": 6,
   "metadata": {},
   "outputs": [],
   "source": [
    "# Sample text\n",
    "text = \"I go to swim for\""
   ]
  },
  {
   "cell_type": "code",
   "execution_count": 7,
   "metadata": {},
   "outputs": [],
   "source": [
    "# Tokenize\n",
    "inputs = tokenizer(text, return_tensors=\"pt\")"
   ]
  },
  {
   "cell_type": "code",
   "execution_count": 13,
   "metadata": {},
   "outputs": [],
   "source": [
    "# Create text\n",
    "output = model.generate(inputs.input_ids, max_length=10)"
   ]
  },
  {
   "cell_type": "code",
   "execution_count": 15,
   "metadata": {},
   "outputs": [
    {
     "name": "stdout",
     "output_type": "stream",
     "text": [
      "I go to swim for an hour every\n"
     ]
    }
   ],
   "source": [
    "# Decode the result\n",
    "generated_text = tokenizer.decode(output[0], skip_special_tokens=True)\n",
    "print(generated_text)"
   ]
  }
 ],
 "metadata": {
  "kernelspec": {
   "display_name": "Python 3",
   "language": "python",
   "name": "python3"
  },
  "language_info": {
   "codemirror_mode": {
    "name": "ipython",
    "version": 3
   },
   "file_extension": ".py",
   "mimetype": "text/x-python",
   "name": "python",
   "nbconvert_exporter": "python",
   "pygments_lexer": "ipython3",
   "version": "3.12.5"
  }
 },
 "nbformat": 4,
 "nbformat_minor": 2
}
