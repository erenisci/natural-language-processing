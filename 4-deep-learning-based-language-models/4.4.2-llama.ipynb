{
 "cells": [
  {
   "cell_type": "markdown",
   "metadata": {},
   "source": [
    "### LLaMA (Large Language Model Meta AI)\n",
    "\n",
    "**LLaMA** is a series of large language models developed by Meta (formerly Facebook). LLaMA models are built on the **Transformer** architecture and are designed to be more efficient and flexible compared to other large-scale language models. They are trained on massive datasets and have a very high parameter count, which helps them achieve strong performance in various language modeling tasks.\n",
    "\n",
    "#### LLaMA Architecture\n",
    "\n",
    "- LLaMA is based on the **Transformer** architecture, similar to models like BERT and GPT, but it focuses on **efficiency** and scalability in training large models.\n",
    "- Unlike GPT, which is autoregressive, LLaMA can be used for a variety of tasks, including those requiring bidirectional context understanding, making it versatile.\n",
    "- LLaMA uses a **decoder-only architecture**, similar to GPT, but it is optimized for better performance with a larger scale of data and parameters.\n",
    "\n",
    "![\"llama\"](../images/4/4-llama.png)\n",
    "\n",
    "#### LLaMA Features\n",
    "\n",
    "- **Efficient Training**: LLaMA models are optimized for efficient training on large datasets. Meta's goal is to develop large language models that require fewer resources while still achieving high accuracy and scalability.\n",
    "- **Scalable Models**: LLaMA is designed to scale well across a wide range of model sizes, making it adaptable to different computational resources and use cases.\n",
    "- **Large-scale Pretraining**: LLaMA models are trained on vast amounts of text data, which enables them to learn a wide range of linguistic patterns and contextual knowledge.\n",
    "- **Versatile Use Cases**: LLaMA models can be applied to various NLP tasks, such as text generation, question answering, summarization, and more, due to their ability to handle complex language understanding and generation tasks.\n",
    "- **High Parameter Count**: LLaMA models have a large number of parameters, which helps them capture detailed linguistic patterns and perform well on tasks that require deep language understanding.\n",
    "\n",
    "LLaMA is aimed at providing a more efficient alternative to large-scale language models like GPT and BERT, offering strong performance without requiring excessive computational resources.\n"
   ]
  },
  {
   "cell_type": "markdown",
   "metadata": {},
   "source": [
    "---\n"
   ]
  },
  {
   "cell_type": "code",
   "execution_count": 3,
   "metadata": {},
   "outputs": [],
   "source": [
    "from transformers import AutoTokenizer, AutoModelForCausalLM"
   ]
  },
  {
   "cell_type": "code",
   "execution_count": null,
   "metadata": {},
   "outputs": [],
   "source": [
    "# Model and Tokenizer\n",
    "model_name = \"huggyllama/llama-7b\"\n",
    "model = AutoModelForCausalLM.from_pretrained(pretrained_model_name_or_path=model_name)\n",
    "tokenizer = AutoTokenizer.from_pretrained(pretrained_model_name_or_path=model_name)"
   ]
  },
  {
   "cell_type": "code",
   "execution_count": 3,
   "metadata": {},
   "outputs": [],
   "source": [
    "# Sample text\n",
    "text = \"I go to swim for\""
   ]
  },
  {
   "cell_type": "code",
   "execution_count": 4,
   "metadata": {},
   "outputs": [],
   "source": [
    "# Tokenize\n",
    "inputs = tokenizer(text, return_tensors=\"pt\")"
   ]
  },
  {
   "cell_type": "code",
   "execution_count": 5,
   "metadata": {},
   "outputs": [],
   "source": [
    "# Create text\n",
    "output = model.generate(inputs.input_ids, max_length=10)"
   ]
  },
  {
   "cell_type": "code",
   "execution_count": 6,
   "metadata": {},
   "outputs": [
    {
     "name": "stdout",
     "output_type": "stream",
     "text": [
      "I go to swim for an hour every\n"
     ]
    }
   ],
   "source": [
    "# Decode the result\n",
    "generated_text = tokenizer.decode(output[0], skip_special_tokens=True)\n",
    "print(generated_text)"
   ]
  }
 ],
 "metadata": {
  "kernelspec": {
   "display_name": "Python 3",
   "language": "python",
   "name": "python3"
  },
  "language_info": {
   "codemirror_mode": {
    "name": "ipython",
    "version": 3
   },
   "file_extension": ".py",
   "mimetype": "text/x-python",
   "name": "python",
   "nbconvert_exporter": "python",
   "pygments_lexer": "ipython3",
   "version": "3.12.5"
  }
 },
 "nbformat": 4,
 "nbformat_minor": 2
}
