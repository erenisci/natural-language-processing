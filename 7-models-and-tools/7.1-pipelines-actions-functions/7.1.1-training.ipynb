{
 "cells": [
  {
   "cell_type": "markdown",
   "metadata": {},
   "source": [
    "### Pipelines, actions and functions\n"
   ]
  },
  {
   "cell_type": "markdown",
   "metadata": {},
   "source": [
    "---\n"
   ]
  },
  {
   "cell_type": "code",
   "execution_count": 17,
   "metadata": {},
   "outputs": [
    {
     "name": "stdout",
     "output_type": "stream",
     "text": [
      "Executing standardize...\n",
      "Executing train...\n",
      "Executing standardize on test data...\n",
      "Executing train on test data...\n"
     ]
    }
   ],
   "source": [
    "from sklearn.datasets import load_iris\n",
    "from sklearn.model_selection import train_test_split\n",
    "from sklearn.preprocessing import StandardScaler\n",
    "from sklearn.svm import SVC\n",
    "\n",
    "\n",
    "# Custom Pipeline class\n",
    "class CustomPipeline:\n",
    "    def __init__(self, steps):\n",
    "        self.steps = steps  # Steps will be a list of tuples (name, function)\n",
    "        self.model = None  # To store the trained model\n",
    "        self.scaler = None  # To store the scaler for transformation\n",
    "\n",
    "    def fit(self, X_train, y_train):\n",
    "        for name, step in self.steps:\n",
    "            print(f\"Executing {name}...\")\n",
    "            if name == \"train\":  # Special case for training step, it returns the model\n",
    "                self.model = step(X_train, y_train)  # Save the trained model\n",
    "            else:\n",
    "                X_train, y_train = step(X_train, y_train)  # Apply each function step\n",
    "\n",
    "    def transform(self, X_test):\n",
    "        for name, step in self.steps:\n",
    "            print(f\"Executing {name} on test data...\")\n",
    "            if name == \"train\":\n",
    "                continue  # Skip the training step for test data\n",
    "            X_test, _ = step(X_test, None)  # Apply each step to test data\n",
    "        return X_test\n",
    "\n",
    "\n",
    "# Step 1: Standardizing the data (Action)\n",
    "def standardize_data(X, y):\n",
    "    scaler = StandardScaler()\n",
    "    X_scaled = scaler.fit_transform(X)\n",
    "    return X_scaled, y  # Return the standardized data with original labels\n",
    "\n",
    "\n",
    "# Step 2: Training the model (Action)\n",
    "def train_model(X, y):\n",
    "    model = SVC()\n",
    "    model.fit(X, y)\n",
    "    return model  # Return the trained model\n",
    "\n",
    "\n",
    "# Load dataset (Iris dataset)\n",
    "data = load_iris()\n",
    "X = data.data  # Features\n",
    "y = data.target  # Labels\n",
    "\n",
    "# Split the dataset into training and test sets (70% for training, 30% for testing)\n",
    "X_train, X_test, y_train, y_test = train_test_split(\n",
    "    X, y, test_size=0.3, random_state=42\n",
    ")\n",
    "\n",
    "# Define steps for the pipeline\n",
    "steps = [\n",
    "    (\"standardize\", standardize_data),  # Step 1: Standardize data\n",
    "    (\"train\", train_model),  # Step 2: Train the model\n",
    "]\n",
    "\n",
    "# Create custom pipeline\n",
    "pipeline = CustomPipeline(steps)\n",
    "\n",
    "# Train the model using the training data\n",
    "pipeline.fit(X_train, y_train)\n",
    "\n",
    "# After training, the model is stored in the pipeline instance, so we call evaluate\n",
    "# Transform the test data (standardize only)\n",
    "X_test_scaled = pipeline.transform(\n",
    "    X_test\n",
    ")  # Only apply transformation (standardization) to test data"
   ]
  },
  {
   "cell_type": "code",
   "execution_count": 18,
   "metadata": {},
   "outputs": [
    {
     "name": "stdout",
     "output_type": "stream",
     "text": [
      "Model accuracy: 0.96\n"
     ]
    }
   ],
   "source": [
    "# Now evaluate the model on the test data\n",
    "accuracy = pipeline.model.score(X_test_scaled, y_test)\n",
    "print(f\"Model accuracy: {accuracy:.2f}\")  # Print model accuracy"
   ]
  }
 ],
 "metadata": {
  "kernelspec": {
   "display_name": "Python 3",
   "language": "python",
   "name": "python3"
  },
  "language_info": {
   "codemirror_mode": {
    "name": "ipython",
    "version": 3
   },
   "file_extension": ".py",
   "mimetype": "text/x-python",
   "name": "python",
   "nbconvert_exporter": "python",
   "pygments_lexer": "ipython3",
   "version": "3.12.5"
  }
 },
 "nbformat": 4,
 "nbformat_minor": 2
}
