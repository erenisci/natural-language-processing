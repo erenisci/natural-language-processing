{
 "cells": [
  {
   "cell_type": "markdown",
   "metadata": {},
   "source": [
    "### Lets train on OpenAI GPT-3.5\n"
   ]
  },
  {
   "cell_type": "markdown",
   "metadata": {},
   "source": [
    "---\n"
   ]
  },
  {
   "cell_type": "code",
   "execution_count": null,
   "metadata": {},
   "outputs": [],
   "source": [
    "import os\n",
    "\n",
    "from dotenv import load_dotenv\n",
    "from openai import OpenAI\n",
    "\n",
    "# Load the API key from environment variables\n",
    "load_dotenv()\n",
    "\n",
    "# Initialize the OpenAI client with the API key\n",
    "client = OpenAI(api_key=os.getenv(\"OPENAI_API_KEY\"))\n",
    "\n",
    "\n",
    "def text_summarize(text):\n",
    "    \"\"\"\n",
    "    Summarizes the provided text using OpenAI's chat model.\n",
    "    The 'system' role sets the assistant's behavior, and the 'user' provides the text to summarize.\n",
    "    \"\"\"\n",
    "    response = client.chat.completions.create(\n",
    "        model=\"gpt-3.5-turbo\",  # Use the GPT-3.5 turbo model\n",
    "        messages=[\n",
    "            {\n",
    "                \"role\": \"system\",\n",
    "                \"content\": f\"You are a summarizer. Apply text-summarization techniques to the text.\",  # Setting the system role to define behavior\n",
    "            },\n",
    "            {\n",
    "                \"role\": \"user\",\n",
    "                \"content\": f\"Summarize this text:\\n\\n{text}\",  # User provides the text to summarize\n",
    "            },\n",
    "            # {\n",
    "            #     \"role\": \"assistant\",\n",
    "            #     \"content\": \"Sure, I will summarize the text for you.\",  # Assistant's default message\n",
    "            # },\n",
    "        ],\n",
    "        # max_tokens=64,  # Set the max tokens for the summary\n",
    "        # max_completion_tokens=64,  # Ensure the completion doesn't exceed the token limit\n",
    "        # temperature=0.0,  # Set the creativity/variance of the output (higher for more creativity)\n",
    "        # stop=[\".\", \"\\n\"],  # Stop when the model reaches a period or newline\n",
    "        # n=1, # Number of completions to generate\n",
    "    )\n",
    "\n",
    "    # Extract and return the summary from the response\n",
    "    return response.choices[0].message.content.strip()"
   ]
  },
  {
   "cell_type": "code",
   "execution_count": 52,
   "metadata": {},
   "outputs": [
    {
     "name": "stdout",
     "output_type": "stream",
     "text": [
      "Artificial Intelligence (AI) has significantly impacted various industries by streamlining processes and providing solutions to complex problems. It encompasses technologies like machine learning, natural language processing, and computer vision. AI has applications in healthcare, finance, and other sectors, but its rapid advancement has raised concerns about potential risks and ethical implications. AI's use of automation has led to concerns about potential job displacement and economic inequalities. Questions about safety, accountability, and privacy have arisen in relation to autonomous vehicles and other AI systems. There is a growing need for regulations and ethical guidelines to ensure responsible development and deployment of AI. The future of AI will depend on societal choices in developing, regulating, and integrating these technologies to harness their benefits while minimizing potential harms.\n"
     ]
    }
   ],
   "source": [
    "if __name__ == \"__main__\":\n",
    "    text = \"\"\"\n",
    "    The Rise of Artificial Intelligence and Its Implications on Society\n",
    "\n",
    "    Artificial Intelligence (AI) has been one of the most transformative technologies of the 21st century, influencing almost every aspect of modern life. From healthcare to finance, education to transportation, AI is revolutionizing industries, streamlining processes, and providing solutions to problems that were previously unimaginable. The rapid advancement of AI technologies, especially in recent years, has raised both excitement and concern. While AI holds immense potential, it also brings forth significant challenges and risks that society must address.\n",
    "\n",
    "    AI encompasses a wide range of technologies, including machine learning, natural language processing, and computer vision. Machine learning, a subset of AI, allows computers to learn from data and improve their performance without being explicitly programmed. This ability to learn and adapt has led to breakthroughs in various fields. For instance, in healthcare, AI algorithms can analyze medical images to detect diseases such as cancer at an early stage, often with greater accuracy than human doctors. Similarly, AI is being used to develop personalized treatments, predict patient outcomes, and even assist in drug discovery.\n",
    "\n",
    "    In the financial sector, AI is transforming the way we manage money and make investments. Algorithms are used to predict market trends, detect fraudulent activities, and automate trading. These innovations have led to more efficient financial systems, but they have also raised concerns about job displacement and the potential for AI to exacerbate economic inequalities. The rise of AI-powered automation is expected to impact various industries, including manufacturing, transportation, and customer service. Many jobs that were once performed by humans are now being replaced by machines, leading to concerns about mass unemployment.\n",
    "\n",
    "    AI’s impact is not limited to the economy; it also raises important ethical questions. For example, autonomous vehicles, which rely heavily on AI, raise concerns about safety, accountability, and privacy. Who is responsible if an autonomous car causes an accident? How can we ensure that AI systems are fair and unbiased? These are critical questions that need to be addressed as AI becomes more integrated into society. There is also the concern about AI being used for malicious purposes, such as surveillance or the creation of deepfake videos that can deceive the public.\n",
    "\n",
    "    As AI continues to evolve, there is a growing need for regulation and ethical guidelines. Policymakers, technologists, and ethicists must collaborate to create frameworks that ensure AI is developed and used responsibly. The goal should be to harness the power of AI while minimizing its potential harms. Governments around the world are beginning to take steps to address these concerns. The European Union, for example, has proposed regulations aimed at ensuring AI systems are safe, transparent, and accountable. In the United States, there have been calls for stronger federal oversight of AI development and deployment.\n",
    "\n",
    "    Ultimately, the future of AI is not determined by technology alone. It will depend on the choices society makes in how it develops, regulates, and integrates these technologies. If managed responsibly, AI has the potential to solve some of humanity's most pressing challenges, such as climate change, disease prevention, and poverty alleviation. However, if left unchecked, AI could also exacerbate existing inequalities, infringe on privacy, and lead to new forms of exploitation. The key to ensuring that AI benefits all of society is to approach its development and implementation with caution, foresight, and a commitment to ethical principles.\n",
    "    \"\"\"\n",
    "\n",
    "    print(text_summarize(text))"
   ]
  }
 ],
 "metadata": {
  "kernelspec": {
   "display_name": "Python 3",
   "language": "python",
   "name": "python3"
  },
  "language_info": {
   "codemirror_mode": {
    "name": "ipython",
    "version": 3
   },
   "file_extension": ".py",
   "mimetype": "text/x-python",
   "name": "python",
   "nbconvert_exporter": "python",
   "pygments_lexer": "ipython3",
   "version": "3.12.5"
  }
 },
 "nbformat": 4,
 "nbformat_minor": 2
}
