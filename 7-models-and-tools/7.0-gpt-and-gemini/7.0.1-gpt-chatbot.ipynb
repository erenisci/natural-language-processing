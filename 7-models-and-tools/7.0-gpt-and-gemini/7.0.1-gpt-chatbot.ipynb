{
 "cells": [
  {
   "cell_type": "markdown",
   "metadata": {},
   "source": [
    "### Chatbot using OpenAI GPT-3.5\n"
   ]
  },
  {
   "cell_type": "markdown",
   "metadata": {},
   "source": [
    "---\n"
   ]
  },
  {
   "cell_type": "code",
   "execution_count": 1,
   "metadata": {},
   "outputs": [],
   "source": [
    "import os\n",
    "\n",
    "from dotenv import load_dotenv\n",
    "from openai import OpenAI\n",
    "\n",
    "load_dotenv()\n",
    "\n",
    "client = OpenAI(api_key=os.getenv(\"OPENAI_API_KEY\"))\n",
    "\n",
    "\n",
    "def chat_with_gpt(prompt, history_list):\n",
    "    response = client.chat.completions.create(\n",
    "        model=\"gpt-3.5-turbo\",\n",
    "        messages=[\n",
    "            {\n",
    "                \"role\": \"user\",\n",
    "                \"content\": f\"This is my message {prompt}. Our conversation history: {history_list}\",\n",
    "            }\n",
    "        ],\n",
    "    )\n",
    "\n",
    "    return response.choices[0].message.content.strip()"
   ]
  },
  {
   "cell_type": "code",
   "execution_count": 2,
   "metadata": {},
   "outputs": [
    {
     "name": "stdout",
     "output_type": "stream",
     "text": [
      "🙂User      : Hello, how are you?\n",
      "🤖Chatbot   : Hello! I am an AI assistant programmed to converse with you. How can I help you today?\n",
      "\n",
      "🙂User      : I have a question about computer-science. Can i ask?\n",
      "🤖Chatbot   : Of course! Please feel free to ask your question about computer science. I'm here to help.\n",
      "\n",
      "🙂User      : What is NLP?\n",
      "🤖Chatbot   : NLP stands for Natural Language Processing. It is a branch of artificial intelligence that focuses on the interaction between computers and humans using natural language. NLP techniques are used in various applications such as text analysis, language translation, speech recognition, and sentiment analysis. Is there anything else you would like to know about NLP?\n",
      "\n",
      "🙂User      : Thank you.\n",
      "🤖Chatbot   : You're welcome! If you have any more questions about computer science or anything else, feel free to ask. Have a great day!\n",
      "\n",
      "Goodbye! 👋\n"
     ]
    }
   ],
   "source": [
    "if __name__ == \"__main__\":\n",
    "    history_list = []\n",
    "\n",
    "    while True:\n",
    "        user_input = input(\"User prompt:\")\n",
    "\n",
    "        if user_input.lower() in [\"exit\", \"q\", \"goodbye\"]:\n",
    "            print(\"Goodbye! 👋\")\n",
    "            break\n",
    "\n",
    "        history_list.append(user_input)\n",
    "        response = chat_with_gpt(user_input, history_list)\n",
    "\n",
    "        print(f\"🙂{\"User\":<10}: {user_input}\")\n",
    "        print(f\"🤖{\"Chatbot\":<10}: {response}\")\n",
    "        print()"
   ]
  }
 ],
 "metadata": {
  "kernelspec": {
   "display_name": "Python 3",
   "language": "python",
   "name": "python3"
  },
  "language_info": {
   "codemirror_mode": {
    "name": "ipython",
    "version": 3
   },
   "file_extension": ".py",
   "mimetype": "text/x-python",
   "name": "python",
   "nbconvert_exporter": "python",
   "pygments_lexer": "ipython3",
   "version": "3.12.5"
  }
 },
 "nbformat": 4,
 "nbformat_minor": 2
}
