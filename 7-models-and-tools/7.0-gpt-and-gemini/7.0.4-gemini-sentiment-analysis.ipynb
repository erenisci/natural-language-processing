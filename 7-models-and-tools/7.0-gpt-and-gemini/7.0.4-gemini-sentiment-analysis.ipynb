{
 "cells": [
  {
   "cell_type": "markdown",
   "metadata": {},
   "source": [
    "### Sentiment Analysis using Gemini - 2.0 Flash\n"
   ]
  },
  {
   "cell_type": "markdown",
   "metadata": {},
   "source": [
    "---\n"
   ]
  },
  {
   "cell_type": "code",
   "execution_count": 8,
   "metadata": {},
   "outputs": [
    {
     "name": "stdout",
     "output_type": "stream",
     "text": [
      "Document 1: I am so happy with the service I received today! Everything was perfect.\n",
      "Sentiment Analysis: Positive\n",
      "\n",
      "\n",
      "Document 2: The product I bought is terrible. It broke after just one use.\n",
      "Sentiment Analysis: Negative\n",
      "\n",
      "\n",
      "Document 3: The event was okay, but could have been better. Some parts were interesting, others not so much.\n",
      "Sentiment Analysis: Neutral\n",
      "\n",
      "\n"
     ]
    }
   ],
   "source": [
    "import os\n",
    "\n",
    "from dotenv import load_dotenv\n",
    "from google import genai\n",
    "\n",
    "# Load the API key from environment variables\n",
    "load_dotenv()\n",
    "\n",
    "# Initialize the Gemini client\n",
    "client = genai.Client(api_key=os.getenv(\"GEMINI_API_KEY\"))\n",
    "\n",
    "# Model to use for sentiment analysis\n",
    "model = \"gemini-2.0-flash\"\n",
    "\n",
    "\n",
    "def analyze_sentiment_and_explain(document: str):\n",
    "    \"\"\"\n",
    "    Analyzes the sentiment of the given document using Gemini and provides an explanation.\n",
    "    \"\"\"\n",
    "    # Constructing the prompt to ask Gemini for sentiment analysis and explanation\n",
    "    prompt = f\"Please analyze the sentiment of the following document and give the only sentiment: {document}\"\n",
    "\n",
    "    # Send request to Gemini for sentiment analysis and explanation\n",
    "    response = client.models.generate_content(model=model, contents=prompt)\n",
    "\n",
    "    return response.text\n",
    "\n",
    "\n",
    "if __name__ == \"__main__\":\n",
    "    documents = [\n",
    "        \"I am so happy with the service I received today! Everything was perfect.\",\n",
    "        \"The product I bought is terrible. It broke after just one use.\",\n",
    "        \"The event was okay, but could have been better. Some parts were interesting, others not so much.\",\n",
    "    ]\n",
    "\n",
    "    for i, doc in enumerate(documents):\n",
    "        result = analyze_sentiment_and_explain(doc)\n",
    "        print(f\"Document {i + 1}: {doc}\\nSentiment Analysis: {result}\\n\")"
   ]
  }
 ],
 "metadata": {
  "kernelspec": {
   "display_name": "Python 3",
   "language": "python",
   "name": "python3"
  },
  "language_info": {
   "codemirror_mode": {
    "name": "ipython",
    "version": 3
   },
   "file_extension": ".py",
   "mimetype": "text/x-python",
   "name": "python",
   "nbconvert_exporter": "python",
   "pygments_lexer": "ipython3",
   "version": "3.12.5"
  }
 },
 "nbformat": 4,
 "nbformat_minor": 2
}
