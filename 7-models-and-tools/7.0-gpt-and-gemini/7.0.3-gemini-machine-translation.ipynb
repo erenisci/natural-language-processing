{
 "cells": [
  {
   "cell_type": "markdown",
   "metadata": {},
   "source": [
    "### Machine Translation using Gemini - 2.0 Flash\n"
   ]
  },
  {
   "cell_type": "markdown",
   "metadata": {},
   "source": [
    "---\n"
   ]
  },
  {
   "cell_type": "code",
   "execution_count": 13,
   "metadata": {},
   "outputs": [],
   "source": [
    "import os\n",
    "\n",
    "from dotenv import load_dotenv\n",
    "from google import genai\n",
    "\n",
    "load_dotenv()\n",
    "\n",
    "client = genai.Client(api_key=os.getenv(\"GEMINI_API_KEY\"))\n",
    "\n",
    "model = \"gemini-2.0-flash\"\n",
    "\n",
    "\n",
    "def translate_text(text, target_language=\"en\"):\n",
    "    \"\"\"\n",
    "    Translates text into the target language using Gemini.\n",
    "    \"\"\"\n",
    "\n",
    "    prompt = f\"Translate this text into {target_language} without any additional information: {text}\"\n",
    "\n",
    "    response = client.models.generate_content(model=model, contents=prompt)\n",
    "\n",
    "    return response.text"
   ]
  },
  {
   "cell_type": "code",
   "execution_count": 14,
   "metadata": {},
   "outputs": [
    {
     "name": "stdout",
     "output_type": "stream",
     "text": [
      "Original Text: Hola, ¿cómo estás?\n",
      "Translated Text: Hello, how are you?\n",
      "\n"
     ]
    }
   ],
   "source": [
    "text_to_translate_spanish = \"Hola, ¿cómo estás?\"  # Spanish - \"Hello, how are you?\"\n",
    "translated_text_from_sp = translate_text(\n",
    "    text_to_translate_spanish, target_language=\"English\"\n",
    ")\n",
    "\n",
    "print(f\"Original Text: {text_to_translate_spanish}\")\n",
    "print(f\"Translated Text: {translated_text_from_sp}\")"
   ]
  },
  {
   "cell_type": "code",
   "execution_count": 15,
   "metadata": {},
   "outputs": [
    {
     "name": "stdout",
     "output_type": "stream",
     "text": [
      "Original Text: Merhaba, nasılsın?\n",
      "Translated Text: Hello, how are you?\n",
      "\n"
     ]
    }
   ],
   "source": [
    "text_to_translate_turkish = \"Merhaba, nasılsın?\"  # Turkish - \"Hello, how are you?\"\n",
    "translated_text_from_tr = translate_text(\n",
    "    text_to_translate_turkish, target_language=\"English\"\n",
    ")\n",
    "\n",
    "print(f\"Original Text: {text_to_translate_turkish}\")\n",
    "print(f\"Translated Text: {translated_text_from_tr}\")"
   ]
  },
  {
   "cell_type": "code",
   "execution_count": 19,
   "metadata": {},
   "outputs": [
    {
     "name": "stdout",
     "output_type": "stream",
     "text": [
      "Original Text: Merhaba.\n",
      "Translated Text: Hello.\n",
      "\n",
      "\n",
      "Original Text: Nasılsın?\n",
      "Translated Text: How are you?\n",
      "\n",
      "\n",
      "Original Text: Ben de iyiyim çok teşekkür ederim.\n",
      "Translated Text: I'm also good, thank you very much.\n",
      "\n",
      "\n",
      "Original Text: Haftaya bir planın var mı?\n",
      "Translated Text: Do you have any plans for next week?\n",
      "\n",
      "\n",
      "Original Text: Çeviri yaptığın için teşekkür ederim Gemini.\n",
      "Translated Text: Thank you Gemini for doing the translation.\n",
      "\n",
      "\n",
      "Original Text: Goodbye\n",
      "Translated Text: Goodbye.\n",
      "\n",
      "\n"
     ]
    }
   ],
   "source": [
    "if __name__ == \"__main__\":\n",
    "    while (user_input := input()) not in [\"exit\", \"q\"]:\n",
    "        translated_text = translate_text(user_input, target_language=\"English\")\n",
    "        print(f\"Original Text: {user_input}\")\n",
    "        print(f\"Translated Text: {translated_text}\")\n",
    "        print()"
   ]
  }
 ],
 "metadata": {
  "kernelspec": {
   "display_name": "Python 3",
   "language": "python",
   "name": "python3"
  },
  "language_info": {
   "codemirror_mode": {
    "name": "ipython",
    "version": 3
   },
   "file_extension": ".py",
   "mimetype": "text/x-python",
   "name": "python",
   "nbconvert_exporter": "python",
   "pygments_lexer": "ipython3",
   "version": "3.12.5"
  }
 },
 "nbformat": 4,
 "nbformat_minor": 2
}
