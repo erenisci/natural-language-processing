{
 "cells": [
  {
   "cell_type": "markdown",
   "metadata": {},
   "source": [
    "### HuggingFace - Trainer - Fine-Tuning - Accelerate\n"
   ]
  },
  {
   "cell_type": "markdown",
   "metadata": {},
   "source": [
    "---\n"
   ]
  },
  {
   "cell_type": "code",
   "execution_count": 9,
   "metadata": {},
   "outputs": [],
   "source": [
    "import torch\n",
    "from accelerate import Accelerator\n",
    "from datasets import load_dataset\n",
    "from sklearn.metrics import accuracy_score\n",
    "from transformers import (\n",
    "    AutoModelForSequenceClassification,\n",
    "    AutoTokenizer,\n",
    "    Trainer,\n",
    "    TrainingArguments,\n",
    ")"
   ]
  },
  {
   "cell_type": "code",
   "execution_count": 2,
   "metadata": {},
   "outputs": [],
   "source": [
    "# 1. Load the dataset\n",
    "dataset = load_dataset(\"imdb\")\n",
    "\n",
    "# 2. Load the tokenizer\n",
    "model_name = \"distilbert-base-uncased-finetuned-sst-2-english\"\n",
    "tokenizer = AutoTokenizer.from_pretrained(model_name)\n",
    "\n",
    "\n",
    "# 3. Define the tokenization function and compute_metrics function\n",
    "def tokenize_function(examples):\n",
    "    return tokenizer(examples[\"text\"], padding=True, truncation=True, max_length=512)\n",
    "\n",
    "\n",
    "# Define a compute_metrics function\n",
    "def compute_metrics(p):\n",
    "    predictions, labels = p\n",
    "    predictions = predictions.argmax(axis=-1)  # Convert logits to predicted class ids\n",
    "    accuracy = accuracy_score(labels, predictions)\n",
    "    return {\"accuracy\": accuracy}\n",
    "\n",
    "\n",
    "# 4. Tokenize only the 'train' and 'test' splits\n",
    "tokenized_train = dataset[\"train\"].map(tokenize_function, batched=True)\n",
    "tokenized_test = dataset[\"test\"].map(tokenize_function, batched=True)"
   ]
  },
  {
   "cell_type": "code",
   "execution_count": 3,
   "metadata": {},
   "outputs": [],
   "source": [
    "# 5. Load the model\n",
    "model = AutoModelForSequenceClassification.from_pretrained(model_name)"
   ]
  },
  {
   "cell_type": "code",
   "execution_count": 4,
   "metadata": {},
   "outputs": [
    {
     "name": "stdout",
     "output_type": "stream",
     "text": [
      "Using device: cuda\n"
     ]
    }
   ],
   "source": [
    "# Check if GPU is available\n",
    "device = torch.device(\"cuda\" if torch.cuda.is_available() else \"cpu\")\n",
    "print(f\"Using device: {device}\")\n",
    "\n",
    "model = model.to(device)"
   ]
  },
  {
   "cell_type": "code",
   "execution_count": 5,
   "metadata": {},
   "outputs": [],
   "source": [
    "# 6. Select the subset of data from 10000 to 15000 /\\ 0-12.5k = 0, 12.5k-25k = 1 /\\\n",
    "train_subset = tokenized_train.select(\n",
    "    range(10000, 15000)\n",
    ")  # Train dataset from 10000-15000\n",
    "test_subset = tokenized_test.select(\n",
    "    range(10000, 15000)\n",
    ")  # Test dataset from 10000-15000"
   ]
  },
  {
   "cell_type": "code",
   "execution_count": 6,
   "metadata": {},
   "outputs": [],
   "source": [
    "# 7. Set the training parameters with optimizations for speed\n",
    "training_args = TrainingArguments(\n",
    "    output_dir=\"./trainer_results\",  # Directory to store output files\n",
    "    eval_strategy=\"epoch\",  # Perform evaluation after each epoch\n",
    "    learning_rate=2e-5,  # Learning rate\n",
    "    per_device_train_batch_size=16,  # Training batch size\n",
    "    per_device_eval_batch_size=32,  # Evaluation batch size\n",
    "    num_train_epochs=3,  # Number of epochs for training\n",
    "    weight_decay=0.01,  # Weight decay to avoid overfitting\n",
    "    gradient_accumulation_steps=4,  # Accumulate gradients to simulate a larger batch size\n",
    "    dataloader_num_workers=4,  # Use multiple workers for faster data loading\n",
    "    fp16=True,  # Use mixed precision to speed up training on GPU\n",
    "    # logging_dir=\"./logs\",  # Optional: Directory to store logs\n",
    "    # logging_steps=50,  # Log every 50 steps for faster feedback\n",
    "    # load_best_model_at_end=True,  # Optional: Load the best model after training ends\n",
    "    # save_strategy=\"epoch\",  # Save the model after each epoch\n",
    "    # evaluation_strategy=\"epoch\",  # Evaluate after each epoch\n",
    ")"
   ]
  },
  {
   "cell_type": "code",
   "execution_count": 7,
   "metadata": {},
   "outputs": [],
   "source": [
    "# 8. Create the Trainer object\n",
    "trainer = Trainer(\n",
    "    model=model,  # The model to be trained\n",
    "    args=training_args,  # The training arguments\n",
    "    train_dataset=train_subset,  # The training dataset\n",
    "    eval_dataset=train_subset,  # The evaluation dataset\n",
    "    compute_metrics=compute_metrics,  # Add the compute_metrics function\n",
    ")"
   ]
  },
  {
   "cell_type": "code",
   "execution_count": 8,
   "metadata": {},
   "outputs": [],
   "source": [
    "# 9. Initialize the Accelerator\n",
    "accelerator = Accelerator()\n",
    "\n",
    "# 10. Prepare the trainer for accelerator\n",
    "trainer = accelerator.prepare(trainer)"
   ]
  },
  {
   "cell_type": "code",
   "execution_count": 10,
   "metadata": {},
   "outputs": [
    {
     "data": {
      "text/html": [
       "\n",
       "    <div>\n",
       "      \n",
       "      <progress value='234' max='234' style='width:300px; height:20px; vertical-align: middle;'></progress>\n",
       "      [234/234 07:22, Epoch 2/3]\n",
       "    </div>\n",
       "    <table border=\"1\" class=\"dataframe\">\n",
       "  <thead>\n",
       " <tr style=\"text-align: left;\">\n",
       "      <th>Epoch</th>\n",
       "      <th>Training Loss</th>\n",
       "      <th>Validation Loss</th>\n",
       "      <th>Accuracy</th>\n",
       "    </tr>\n",
       "  </thead>\n",
       "  <tbody>\n",
       "    <tr>\n",
       "      <td>1</td>\n",
       "      <td>No log</td>\n",
       "      <td>0.153273</td>\n",
       "      <td>0.945000</td>\n",
       "    </tr>\n",
       "    <tr>\n",
       "      <td>2</td>\n",
       "      <td>No log</td>\n",
       "      <td>0.080983</td>\n",
       "      <td>0.978000</td>\n",
       "    </tr>\n",
       "  </tbody>\n",
       "</table><p>"
      ],
      "text/plain": [
       "<IPython.core.display.HTML object>"
      ]
     },
     "metadata": {},
     "output_type": "display_data"
    },
    {
     "data": {
      "text/html": [
       "\n",
       "    <div>\n",
       "      \n",
       "      <progress value='157' max='157' style='width:300px; height:20px; vertical-align: middle;'></progress>\n",
       "      [157/157 00:27]\n",
       "    </div>\n",
       "    "
      ],
      "text/plain": [
       "<IPython.core.display.HTML object>"
      ]
     },
     "metadata": {},
     "output_type": "display_data"
    }
   ],
   "source": [
    "# 11. Fine-tune the model\n",
    "trainer.train()\n",
    "\n",
    "# 12. Evaluate the model on the test set\n",
    "results = trainer.evaluate()"
   ]
  },
  {
   "cell_type": "code",
   "execution_count": 13,
   "metadata": {},
   "outputs": [
    {
     "name": "stdout",
     "output_type": "stream",
     "text": [
      "Test Loss: 0.08\n",
      "Test Accuracy: 0.98\n"
     ]
    }
   ],
   "source": [
    "# 13. Print the results\n",
    "print(f\"Test Loss: {results['eval_loss']:.2f}\")\n",
    "print(f\"Test Accuracy: {results['eval_accuracy']:.2f}\")"
   ]
  },
  {
   "cell_type": "code",
   "execution_count": 17,
   "metadata": {},
   "outputs": [
    {
     "data": {
      "text/plain": [
       "('./fine_tuned_model\\\\tokenizer_config.json',\n",
       " './fine_tuned_model\\\\special_tokens_map.json',\n",
       " './fine_tuned_model\\\\vocab.txt',\n",
       " './fine_tuned_model\\\\added_tokens.json',\n",
       " './fine_tuned_model\\\\tokenizer.json')"
      ]
     },
     "execution_count": 17,
     "metadata": {},
     "output_type": "execute_result"
    }
   ],
   "source": [
    "# 14. Save the model\n",
    "model.save_pretrained(\"./fine_tuned_model\")\n",
    "tokenizer.save_pretrained(\"./fine_tuned_model\")"
   ]
  },
  {
   "cell_type": "code",
   "execution_count": 20,
   "metadata": {},
   "outputs": [
    {
     "name": "stdout",
     "output_type": "stream",
     "text": [
      "Predicted Class: Positive\n"
     ]
    }
   ],
   "source": [
    "# 15. Make a prediction with the model\n",
    "text = \"I really love this movie! It's amazing.\"\n",
    "\n",
    "# Tokenize the input text\n",
    "inputs = tokenizer(\n",
    "    text, return_tensors=\"pt\", padding=True, truncation=True, max_length=512\n",
    ")\n",
    "\n",
    "# Move inputs to the correct device\n",
    "inputs = {key: value.to(device) for key, value in inputs.items()}\n",
    "\n",
    "# Make a prediction with the model\n",
    "with torch.no_grad():\n",
    "    logits = model(**inputs).logits\n",
    "\n",
    "# Determine the predicted class\n",
    "predicted_class_id = logits.argmax().item()\n",
    "\n",
    "# Print the predicted class (0 = Negative, 1 = Positive)\n",
    "print(f\"Predicted Class: {\"Positive\" if predicted_class_id == 1 else \"Negative\"}\")"
   ]
  }
 ],
 "metadata": {
  "kernelspec": {
   "display_name": "Python 3",
   "language": "python",
   "name": "python3"
  },
  "language_info": {
   "codemirror_mode": {
    "name": "ipython",
    "version": 3
   },
   "file_extension": ".py",
   "mimetype": "text/x-python",
   "name": "python",
   "nbconvert_exporter": "python",
   "pygments_lexer": "ipython3",
   "version": "3.12.5"
  }
 },
 "nbformat": 4,
 "nbformat_minor": 2
}
