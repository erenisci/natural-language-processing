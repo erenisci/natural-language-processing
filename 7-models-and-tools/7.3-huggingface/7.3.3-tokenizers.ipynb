{
 "cells": [
  {
   "cell_type": "markdown",
   "metadata": {},
   "source": [
    "### HuggingFace - Tokenizers\n"
   ]
  },
  {
   "cell_type": "markdown",
   "metadata": {},
   "source": [
    "---\n"
   ]
  },
  {
   "cell_type": "code",
   "execution_count": 2,
   "metadata": {},
   "outputs": [],
   "source": [
    "import pandas as pd\n",
    "from datasets import load_dataset\n",
    "from transformers import DistilBertTokenizer\n",
    "\n",
    "dataset = load_dataset(\"imdb\")\n",
    "\n",
    "model = \"distilbert/distilbert-base-uncased-finetuned-sst-2-english\"\n",
    "tokenizer = DistilBertTokenizer.from_pretrained(pretrained_model_name_or_path=model)\n",
    "\n",
    "\n",
    "# Tokenization\n",
    "def tokenize_function(examples):\n",
    "    return tokenizer(examples[\"text\"], padding=True, truncation=True)\n",
    "\n",
    "\n",
    "# Tokenization on dataset\n",
    "tokenized_train = dataset[\"train\"].map(tokenize_function, batched=True)\n",
    "\n",
    "# DataFrame\n",
    "df = pd.DataFrame(tokenized_train)"
   ]
  },
  {
   "cell_type": "code",
   "execution_count": 3,
   "metadata": {},
   "outputs": [
    {
     "name": "stdout",
     "output_type": "stream",
     "text": [
      "<class 'pandas.core.frame.DataFrame'>\n",
      "RangeIndex: 25000 entries, 0 to 24999\n",
      "Data columns (total 4 columns):\n",
      " #   Column          Non-Null Count  Dtype \n",
      "---  ------          --------------  ----- \n",
      " 0   text            25000 non-null  object\n",
      " 1   label           25000 non-null  int64 \n",
      " 2   input_ids       25000 non-null  object\n",
      " 3   attention_mask  25000 non-null  object\n",
      "dtypes: int64(1), object(3)\n",
      "memory usage: 781.4+ KB\n",
      "None\n"
     ]
    }
   ],
   "source": [
    "print(df.info())"
   ]
  },
  {
   "cell_type": "code",
   "execution_count": 4,
   "metadata": {},
   "outputs": [
    {
     "name": "stdout",
     "output_type": "stream",
     "text": [
      "                                                text  label  \\\n",
      "0  I rented I AM CURIOUS-YELLOW from my video sto...      0   \n",
      "1  \"I Am Curious: Yellow\" is a risible and preten...      0   \n",
      "2  If only to avoid making this type of film in t...      0   \n",
      "3  This film was probably inspired by Godard's Ma...      0   \n",
      "4  Oh, brother...after hearing about this ridicul...      0   \n",
      "\n",
      "                                           input_ids  \\\n",
      "0  [101, 1045, 12524, 1045, 2572, 8025, 1011, 375...   \n",
      "1  [101, 1000, 1045, 2572, 8025, 1024, 3756, 1000...   \n",
      "2  [101, 2065, 2069, 2000, 4468, 2437, 2023, 2828...   \n",
      "3  [101, 2023, 2143, 2001, 2763, 4427, 2011, 2643...   \n",
      "4  [101, 2821, 1010, 2567, 1012, 1012, 1012, 2044...   \n",
      "\n",
      "                                      attention_mask  \n",
      "0  [1, 1, 1, 1, 1, 1, 1, 1, 1, 1, 1, 1, 1, 1, 1, ...  \n",
      "1  [1, 1, 1, 1, 1, 1, 1, 1, 1, 1, 1, 1, 1, 1, 1, ...  \n",
      "2  [1, 1, 1, 1, 1, 1, 1, 1, 1, 1, 1, 1, 1, 1, 1, ...  \n",
      "3  [1, 1, 1, 1, 1, 1, 1, 1, 1, 1, 1, 1, 1, 1, 1, ...  \n",
      "4  [1, 1, 1, 1, 1, 1, 1, 1, 1, 1, 1, 1, 1, 1, 1, ...  \n"
     ]
    }
   ],
   "source": [
    "print(df[:5])"
   ]
  },
  {
   "cell_type": "code",
   "execution_count": 5,
   "metadata": {},
   "outputs": [
    {
     "name": "stdout",
     "output_type": "stream",
     "text": [
      "0    0\n",
      "1    0\n",
      "2    0\n",
      "3    0\n",
      "4    0\n",
      "Name: label, dtype: int64\n"
     ]
    }
   ],
   "source": [
    "print(df[:5][\"label\"])"
   ]
  },
  {
   "cell_type": "code",
   "execution_count": 6,
   "metadata": {},
   "outputs": [
    {
     "name": "stdout",
     "output_type": "stream",
     "text": [
      "0    [101, 1045, 12524, 1045, 2572, 8025, 1011, 375...\n",
      "1    [101, 1000, 1045, 2572, 8025, 1024, 3756, 1000...\n",
      "2    [101, 2065, 2069, 2000, 4468, 2437, 2023, 2828...\n",
      "3    [101, 2023, 2143, 2001, 2763, 4427, 2011, 2643...\n",
      "4    [101, 2821, 1010, 2567, 1012, 1012, 1012, 2044...\n",
      "Name: input_ids, dtype: object\n"
     ]
    }
   ],
   "source": [
    "print(df[:5][\"input_ids\"])"
   ]
  },
  {
   "cell_type": "code",
   "execution_count": 7,
   "metadata": {},
   "outputs": [
    {
     "name": "stdout",
     "output_type": "stream",
     "text": [
      "0    [1, 1, 1, 1, 1, 1, 1, 1, 1, 1, 1, 1, 1, 1, 1, ...\n",
      "1    [1, 1, 1, 1, 1, 1, 1, 1, 1, 1, 1, 1, 1, 1, 1, ...\n",
      "2    [1, 1, 1, 1, 1, 1, 1, 1, 1, 1, 1, 1, 1, 1, 1, ...\n",
      "3    [1, 1, 1, 1, 1, 1, 1, 1, 1, 1, 1, 1, 1, 1, 1, ...\n",
      "4    [1, 1, 1, 1, 1, 1, 1, 1, 1, 1, 1, 1, 1, 1, 1, ...\n",
      "Name: attention_mask, dtype: object\n"
     ]
    }
   ],
   "source": [
    "print(df[:5][\"attention_mask\"])"
   ]
  }
 ],
 "metadata": {
  "kernelspec": {
   "display_name": "Python 3",
   "language": "python",
   "name": "python3"
  },
  "language_info": {
   "codemirror_mode": {
    "name": "ipython",
    "version": 3
   },
   "file_extension": ".py",
   "mimetype": "text/x-python",
   "name": "python",
   "nbconvert_exporter": "python",
   "pygments_lexer": "ipython3",
   "version": "3.12.5"
  }
 },
 "nbformat": 4,
 "nbformat_minor": 2
}
