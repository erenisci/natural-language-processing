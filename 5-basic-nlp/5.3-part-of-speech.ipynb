{
 "cells": [
  {
   "cell_type": "markdown",
   "metadata": {},
   "source": [
    "### Part of Speech (POS) (w/ Spacy)\n",
    "\n",
    "Part of Speech (POS) Tagging is the process of identifying and labeling the grammatical categories of words in a sentence, such as nouns, verbs, adjectives, etc. This helps in understanding the syntactic structure of the sentence and the role each word plays in it.\n",
    "\n",
    "#### Common parts of speech include:\n",
    "\n",
    "- Noun: A person, place, thing, or idea (e.g., \"dog\", \"city\", \"happiness\").\n",
    "- Verb: An action or state of being (e.g., \"run\", \"is\").\n",
    "- Adjective: Describes a noun (e.g., \"beautiful\", \"quick\").\n",
    "- Adverb: Modifies a verb, adjective, or another adverb (e.g., \"quickly\", \"very\").\n",
    "- Pronoun: Replaces a noun (e.g., \"he\", \"she\", \"it\").\n",
    "- Preposition: Shows the relationship between a noun (or pronoun) and another word in the sentence (e.g., \"on\", \"in\", \"at\").\n",
    "- Conjunction: Connects words, phrases, or clauses (e.g., \"and\", \"but\", \"because\").\n",
    "- Interjection: An exclamation (e.g., \"Wow!\", \"Oh no!\").\n",
    "  In short, POS Tagging involves classifying words in a sentence based on their grammatical role.\n",
    "\n",
    "#### Part of Speech Examples:\n",
    "\n",
    "- Noun: \"dog\", \"city\"\n",
    "- Verb: \"run\", \"is\"\n",
    "- Adjective: \"beautiful\", \"quick\"\n",
    "- Adverb: \"quickly\", \"very\"\n",
    "- Pronoun: \"he\", \"she\"\n",
    "- Preposition: \"on\", \"in\"\n",
    "- Conjunction: \"and\", \"but\"\n",
    "- Interjection: \"Wow!\", \"Oh no!\"\n"
   ]
  },
  {
   "cell_type": "markdown",
   "metadata": {},
   "source": [
    "---\n"
   ]
  },
  {
   "cell_type": "code",
   "execution_count": 6,
   "metadata": {},
   "outputs": [
    {
     "name": "stdout",
     "output_type": "stream",
     "text": [
      "What PRON\n",
      "is AUX\n",
      "the DET\n",
      "weather NOUN\n",
      "like ADP\n",
      "today NOUN\n",
      "? PUNCT\n"
     ]
    }
   ],
   "source": [
    "import spacy\n",
    "\n",
    "nlp = spacy.load(\"en_core_web_sm\")\n",
    "\n",
    "sentence = \"What is the weather like today?\"\n",
    "doc = nlp(sentence)\n",
    "\n",
    "for token in doc:\n",
    "    print(token.text, token.pos_)"
   ]
  }
 ],
 "metadata": {
  "kernelspec": {
   "display_name": "Python 3",
   "language": "python",
   "name": "python3"
  },
  "language_info": {
   "codemirror_mode": {
    "name": "ipython",
    "version": 3
   },
   "file_extension": ".py",
   "mimetype": "text/x-python",
   "name": "python",
   "nbconvert_exporter": "python",
   "pygments_lexer": "ipython3",
   "version": "3.12.5"
  }
 },
 "nbformat": 4,
 "nbformat_minor": 2
}
