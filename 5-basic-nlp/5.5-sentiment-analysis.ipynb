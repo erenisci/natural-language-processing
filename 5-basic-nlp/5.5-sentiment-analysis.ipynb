{
 "cells": [
  {
   "cell_type": "markdown",
   "metadata": {},
   "source": [
    "### Sentiment Analysis (w/ Machine Learning)\n",
    "\n",
    "Sentiment Analysis is the process of determining the sentiment or emotional tone expressed in a piece of text. It typically classifies text into categories such as positive, negative, or neutral. This task is commonly used in understanding opinions, reviews, social media posts, and customer feedback.\n",
    "\n",
    "#### Common aspects of Sentiment Analysis include:\n",
    "\n",
    "- Positive Sentiment: Text that expresses happiness, satisfaction, or approval (e.g., \"I love this product!\").\n",
    "- Negative Sentiment: Text that expresses dissatisfaction, anger, or disapproval (e.g., \"I hate waiting in long lines!\").\n",
    "- Neutral Sentiment: Text that is neither positive nor negative, and is more factual or indifferent (e.g., \"The meeting starts at 3 PM.\").\n",
    "\n",
    "In short, Sentiment Analysis helps to automatically assess and categorize the emotions or opinions expressed in text, which can be useful in various domains such as marketing, customer service, and social media monitoring.\n",
    "\n",
    "#### Sentiment Analysis Examples:\n",
    "\n",
    "- Positive Sentiment: \"I love this product!\"\n",
    "- Negative Sentiment: \"I hate waiting in long lines!\"\n",
    "- Neutral Sentiment: \"The meeting starts at 3 PM.\"\n"
   ]
  },
  {
   "cell_type": "markdown",
   "metadata": {},
   "source": [
    "---\n"
   ]
  },
  {
   "cell_type": "markdown",
   "metadata": {},
   "source": [
    "#### Real-Life Application of Sentiment Analysis Using the Amazon Dataset &rarr; [Amazon_Dataset.csv](https://raw.githubusercontent.com/pycaret/pycaret/master/datasets/amazon.csv)\n"
   ]
  },
  {
   "cell_type": "code",
   "execution_count": 14,
   "metadata": {},
   "outputs": [
    {
     "name": "stderr",
     "output_type": "stream",
     "text": [
      "[nltk_data] Downloading package vader_lexicon to\n",
      "[nltk_data]     C:\\Users\\iscie\\AppData\\Roaming\\nltk_data...\n",
      "[nltk_data]   Package vader_lexicon is already up-to-date!\n",
      "[nltk_data] Downloading package stopwords to\n",
      "[nltk_data]     C:\\Users\\iscie\\AppData\\Roaming\\nltk_data...\n",
      "[nltk_data]   Package stopwords is already up-to-date!\n",
      "[nltk_data] Downloading package punkt to\n",
      "[nltk_data]     C:\\Users\\iscie\\AppData\\Roaming\\nltk_data...\n",
      "[nltk_data]   Package punkt is already up-to-date!\n",
      "[nltk_data] Downloading package wordnet to\n",
      "[nltk_data]     C:\\Users\\iscie\\AppData\\Roaming\\nltk_data...\n",
      "[nltk_data]   Package wordnet is already up-to-date!\n",
      "[nltk_data] Downloading package omw-1.4 to\n",
      "[nltk_data]     C:\\Users\\iscie\\AppData\\Roaming\\nltk_data...\n",
      "[nltk_data]   Package omw-1.4 is already up-to-date!\n"
     ]
    },
    {
     "data": {
      "text/plain": [
       "True"
      ]
     },
     "execution_count": 14,
     "metadata": {},
     "output_type": "execute_result"
    }
   ],
   "source": [
    "# Import\n",
    "import nltk\n",
    "import pandas as pd\n",
    "from nltk.corpus import stopwords\n",
    "from nltk.sentiment.vader import SentimentIntensityAnalyzer\n",
    "from nltk.stem import WordNetLemmatizer\n",
    "from nltk.tokenize import word_tokenize\n",
    "from sklearn.metrics import classification_report, confusion_matrix\n",
    "\n",
    "nltk.download(\"vader_lexicon\")\n",
    "nltk.download(\"stopwords\")\n",
    "nltk.download(\"punkt\")\n",
    "nltk.download(\"wordnet\")\n",
    "nltk.download(\"omw-1.4\")"
   ]
  },
  {
   "cell_type": "code",
   "execution_count": 6,
   "metadata": {},
   "outputs": [
    {
     "name": "stdout",
     "output_type": "stream",
     "text": [
      "                                          reviewText  Positive\n",
      "0  This is a one of the best apps acording to a b...         1\n",
      "1  This is a pretty good version of the game for ...         1\n",
      "2  this is a really cool game. there are a bunch ...         1\n",
      "3  This is a silly game and can be frustrating, b...         1\n",
      "4  This is a terrific game on any pad. Hrs of fun...         1\n"
     ]
    }
   ],
   "source": [
    "# Dataset\n",
    "df = pd.read_csv(\"../data/Amazon_Dataset.csv\")\n",
    "print(df.head())"
   ]
  },
  {
   "cell_type": "code",
   "execution_count": 12,
   "metadata": {},
   "outputs": [],
   "source": [
    "# Text cleaning and preprocessing\n",
    "def preprocess_text(text):\n",
    "    # Tokenize\n",
    "    tokens = word_tokenize(text.lower())\n",
    "\n",
    "    # Stop words\n",
    "    filtered_tokens = [\n",
    "        token for token in tokens if token not in stopwords.words(\"english\")\n",
    "    ]\n",
    "\n",
    "    # Lemmatize\n",
    "    lemmatizer = WordNetLemmatizer()\n",
    "    lemmatized_tokens = [lemmatizer.lemmatize(token) for token in filtered_tokens]\n",
    "\n",
    "    # Join words\n",
    "    processed_text = \" \".join(lemmatized_tokens)\n",
    "\n",
    "    return processed_text\n",
    "\n",
    "\n",
    "df[\"reviewText2\"] = df[\"reviewText\"].apply(preprocess_text)"
   ]
  },
  {
   "cell_type": "code",
   "execution_count": 13,
   "metadata": {},
   "outputs": [],
   "source": [
    "# NLTK sentiment analyzer\n",
    "analyzer = SentimentIntensityAnalyzer()\n",
    "\n",
    "\n",
    "def get_sentiment(text):\n",
    "    scores = analyzer.polarity_scores(text)\n",
    "\n",
    "    sentiment = 1 if scores[\"pos\"] > 0 else 0\n",
    "\n",
    "    return sentiment\n",
    "\n",
    "\n",
    "df[\"sentiment\"] = df[\"reviewText2\"].apply(get_sentiment)"
   ]
  },
  {
   "cell_type": "code",
   "execution_count": 17,
   "metadata": {},
   "outputs": [
    {
     "name": "stdout",
     "output_type": "stream",
     "text": [
      "Confusion Matrix:\n",
      " [[ 1131  3636]\n",
      " [  576 14657]]\n",
      "\n",
      "Classification Report:\n",
      "               precision    recall  f1-score   support\n",
      "\n",
      "           0       0.66      0.24      0.35      4767\n",
      "           1       0.80      0.96      0.87     15233\n",
      "\n",
      "    accuracy                           0.79     20000\n",
      "   macro avg       0.73      0.60      0.61     20000\n",
      "weighted avg       0.77      0.79      0.75     20000\n",
      "\n"
     ]
    }
   ],
   "source": [
    "# Evaluation - Test\n",
    "print(\"Confusion Matrix:\\n\", confusion_matrix(df[\"Positive\"], df[\"sentiment\"]))\n",
    "print()\n",
    "print(\n",
    "    \"Classification Report:\\n\", classification_report(df[\"Positive\"], df[\"sentiment\"])\n",
    ")"
   ]
  }
 ],
 "metadata": {
  "kernelspec": {
   "display_name": "Python 3",
   "language": "python",
   "name": "python3"
  },
  "language_info": {
   "codemirror_mode": {
    "name": "ipython",
    "version": 3
   },
   "file_extension": ".py",
   "mimetype": "text/x-python",
   "name": "python",
   "nbconvert_exporter": "python",
   "pygments_lexer": "ipython3",
   "version": "3.12.5"
  }
 },
 "nbformat": 4,
 "nbformat_minor": 2
}
