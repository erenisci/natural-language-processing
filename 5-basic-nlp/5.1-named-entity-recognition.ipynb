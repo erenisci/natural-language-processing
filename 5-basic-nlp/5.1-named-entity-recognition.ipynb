{
 "cells": [
  {
   "cell_type": "markdown",
   "metadata": {},
   "source": [
    "### Named Entity Recognitiyon (NER) (w/ Spacy)\n",
    "\n",
    "Named Entity Recognition (NER) is the task of identifying and classifying named entities (such as persons, locations, organizations, dates, etc.) within text. It is a key component of natural language processing (NLP), as it helps machines understand the context and structure of the text by recognizing specific, meaningful entities.\n",
    "\n",
    "- Common examples of Named Entity Recognition include:\n",
    "\n",
    "  - Person: Identifying names of individuals (e.g., \"Barack Obama\").\n",
    "  - Location: Identifying geographic locations (e.g., \"Paris\").\n",
    "  - Organization: Identifying names of organizations (e.g., \"Microsoft\").\n",
    "  - Date: Identifying specific dates (e.g., \"January 1, 2025\").\n",
    "  - Miscellaneous: Identifying other entities like events or products.\n",
    "\n",
    "In short, NER focuses on recognizing and extracting named entities from text, making it easier to perform further analysis, like categorization, information retrieval, or relationship extraction.\n",
    "\n",
    "#### Named Entity Recognition Examples:\n",
    "\n",
    "- Person: \"Barack Obama\"\n",
    "- Location: \"Paris\"\n",
    "- Organization: \"Microsoft\"\n",
    "\n",
    "#### Named Entity Recognition Flowchart:\n",
    "\n",
    "![\"named-entity-classification\"](../images/5/5-named-entity-classification.png)\n"
   ]
  },
  {
   "cell_type": "markdown",
   "metadata": {},
   "source": [
    "---\n"
   ]
  },
  {
   "cell_type": "code",
   "execution_count": 10,
   "metadata": {},
   "outputs": [
    {
     "name": "stdout",
     "output_type": "stream",
     "text": [
      "                          text    type                        lemma\n",
      "0                         John  PERSON                         John\n",
      "1                    Microsoft     ORG                    Microsoft\n",
      "2                     New York     GPE                     New York\n",
      "3  the National History Museum     ORG  the National History Museum\n"
     ]
    }
   ],
   "source": [
    "import pandas as pd\n",
    "import spacy\n",
    "\n",
    "nlp = spacy.load(\"en_core_web_sm\")\n",
    "\n",
    "content = \"John works at Microsoft and lives in New York. He visited the National History Museum.\"\n",
    "doc = nlp(content)\n",
    "\n",
    "entities = [(ent.text, ent.label_, ent.lemma_) for ent in doc.ents]\n",
    "df = pd.DataFrame(entities, columns=[\"text\", \"type\", \"lemma\"])\n",
    "print(df)"
   ]
  }
 ],
 "metadata": {
  "kernelspec": {
   "display_name": "Python 3",
   "language": "python",
   "name": "python3"
  },
  "language_info": {
   "codemirror_mode": {
    "name": "ipython",
    "version": 3
   },
   "file_extension": ".py",
   "mimetype": "text/x-python",
   "name": "python",
   "nbconvert_exporter": "python",
   "pygments_lexer": "ipython3",
   "version": "3.12.5"
  }
 },
 "nbformat": 4,
 "nbformat_minor": 2
}
