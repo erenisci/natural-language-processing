{
 "cells": [
  {
   "cell_type": "markdown",
   "metadata": {},
   "source": [
    "### Word Sense Disambiguation (w/ Lesk Algorithm)\n",
    "\n",
    "Word Sense Disambiguation (WSD) is the task of determining which meaning of a word is being used in a given context when the word has multiple meanings. Many words have multiple senses (meanings), and WSD helps in selecting the correct meaning based on the surrounding words in the text.\n",
    "\n",
    "#### Common aspects of Word Sense Disambiguation include:\n",
    "\n",
    "- Contextual Analysis: Understanding the surrounding words or phrases to determine the correct sense of the word.\n",
    "- Disambiguation Algorithms: Using methods like supervised learning, dictionary-based approaches, or clustering to disambiguate word senses.\n",
    "- Polysemy: Dealing with words that have multiple meanings based on context (e.g., \"bank\" can mean a financial institution or the side of a river).\n",
    "\n",
    "In short, Word Sense Disambiguation aims to choose the correct meaning of a word based on its context, making text more accurately understood by machines.\n",
    "\n",
    "#### Word Sense Disambiguation Examples:\n",
    "\n",
    "- \"Bank\":\n",
    "\n",
    "  - Meaning 1: \"I went to the bank to withdraw money.\" (financial institution)\n",
    "  - Meaning 2: \"The boat is near the bank of the river.\" (side of a river)\n",
    "\n",
    "- \"Bat\":\n",
    "  - Meaning 1: \"He hit the ball with a bat.\" (sports equipment)\n",
    "  - Meaning 2: \"A bat flew past me last night.\" (flying mammal)\n"
   ]
  },
  {
   "cell_type": "markdown",
   "metadata": {},
   "source": [
    "---\n"
   ]
  },
  {
   "cell_type": "code",
   "execution_count": 1,
   "metadata": {},
   "outputs": [
    {
     "name": "stderr",
     "output_type": "stream",
     "text": [
      "[nltk_data] Downloading package punkt to\n",
      "[nltk_data]     C:\\Users\\iscie\\AppData\\Roaming\\nltk_data...\n",
      "[nltk_data]   Package punkt is already up-to-date!\n",
      "[nltk_data] Downloading package wordnet to\n",
      "[nltk_data]     C:\\Users\\iscie\\AppData\\Roaming\\nltk_data...\n",
      "[nltk_data]   Package wordnet is already up-to-date!\n",
      "[nltk_data] Downloading package omw-1.4 to\n",
      "[nltk_data]     C:\\Users\\iscie\\AppData\\Roaming\\nltk_data...\n",
      "[nltk_data]   Package omw-1.4 is already up-to-date!\n"
     ]
    },
    {
     "data": {
      "text/plain": [
       "True"
      ]
     },
     "execution_count": 1,
     "metadata": {},
     "output_type": "execute_result"
    }
   ],
   "source": [
    "import nltk\n",
    "from nltk.wsd import lesk\n",
    "\n",
    "nltk.download(\"punkt\")\n",
    "nltk.download(\"wordnet\")\n",
    "nltk.download(\"omw-1.4\")"
   ]
  },
  {
   "cell_type": "code",
   "execution_count": 2,
   "metadata": {},
   "outputs": [
    {
     "name": "stdout",
     "output_type": "stream",
     "text": [
      "Sentence: I went to the bank to deposit money\n",
      "Word: bank\n",
      "Sense: a container (usually with a slot in the top) for keeping money at home\n"
     ]
    }
   ],
   "source": [
    "sentence1 = \"I went to the bank to deposit money\"\n",
    "word1 = \"bank\"\n",
    "\n",
    "sense1 = lesk(nltk.word_tokenize(sentence1), word1)\n",
    "\n",
    "print(\"Sentence:\", sentence1)\n",
    "print(\"Word:\", word1)\n",
    "print(\"Sense:\", sense1.definition())"
   ]
  },
  {
   "cell_type": "code",
   "execution_count": 3,
   "metadata": {},
   "outputs": [
    {
     "name": "stdout",
     "output_type": "stream",
     "text": [
      "Sentence: The river bank was flooded after the heavy rain\n",
      "Word: bank\n",
      "Sense: a container (usually with a slot in the top) for keeping money at home\n"
     ]
    }
   ],
   "source": [
    "sentence2 = \"The river bank was flooded after the heavy rain\"\n",
    "word2 = \"bank\"\n",
    "\n",
    "sense2 = lesk(nltk.word_tokenize(sentence2), word2)\n",
    "\n",
    "print(\"Sentence:\", sentence2)\n",
    "print(\"Word:\", word2)\n",
    "print(\"Sense:\", sense2.definition())"
   ]
  },
  {
   "cell_type": "markdown",
   "metadata": {},
   "source": [
    "---\n"
   ]
  },
  {
   "cell_type": "code",
   "execution_count": null,
   "metadata": {},
   "outputs": [
    {
     "name": "stderr",
     "output_type": "stream",
     "text": [
      "Warming up PyWSD (takes ~10 secs)... took 1.8825175762176514 secs.\n",
      "[nltk_data] Downloading package punkt to\n",
      "[nltk_data]     C:\\Users\\iscie\\AppData\\Roaming\\nltk_data...\n",
      "[nltk_data]   Package punkt is already up-to-date!\n",
      "[nltk_data] Downloading package wordnet to\n",
      "[nltk_data]     C:\\Users\\iscie\\AppData\\Roaming\\nltk_data...\n",
      "[nltk_data]   Package wordnet is already up-to-date!\n",
      "[nltk_data] Downloading package omw-1.4 to\n",
      "[nltk_data]     C:\\Users\\iscie\\AppData\\Roaming\\nltk_data...\n",
      "[nltk_data]   Package omw-1.4 is already up-to-date!\n"
     ]
    },
    {
     "name": "stdout",
     "output_type": "stream",
     "text": [
      "showing info https://raw.githubusercontent.com/nltk/nltk_data/gh-pages/index.xml\n"
     ]
    },
    {
     "data": {
      "text/plain": [
       "True"
      ]
     },
     "execution_count": 4,
     "metadata": {},
     "output_type": "execute_result"
    }
   ],
   "source": [
    "import nltk\n",
    "from pywsd.lesk import adapted_lesk, cosine_lesk, simple_lesk\n",
    "\n",
    "nltk.download(\"punkt\")\n",
    "nltk.download(\"wordnet\")\n",
    "nltk.download(\"omw-1.4\")"
   ]
  },
  {
   "cell_type": "code",
   "execution_count": 8,
   "metadata": {},
   "outputs": [
    {
     "name": "stdout",
     "output_type": "stream",
     "text": [
      "Sentence: I went to the bank to deposit money\n",
      "Def. simple: a financial institution that accepts deposits and channels the money into lending activities\n",
      "Def. adapted: a financial institution that accepts deposits and channels the money into lending activities\n",
      "Def. cosine: a container (usually with a slot in the top) for keeping money at home\n",
      "\n",
      "Sentence: The river bank was flooded after the heavy rain\n",
      "Def. simple: sloping land (especially the slope beside a body of water)\n",
      "Def. adapted: sloping land (especially the slope beside a body of water)\n",
      "Def. cosine: a supply or stock held in reserve for future use (especially in emergencies)\n",
      "\n"
     ]
    }
   ],
   "source": [
    "sentences = [\n",
    "    \"I went to the bank to deposit money\",\n",
    "    \"The river bank was flooded after the heavy rain\",\n",
    "]\n",
    "word = \"bank\"\n",
    "\n",
    "\n",
    "for sentence in sentences:\n",
    "    print(\"Sentence:\", sentence)\n",
    "\n",
    "    sense_simple = simple_lesk(sentence, word)\n",
    "    print(\"Def. simple:\", sense_simple.definition())\n",
    "\n",
    "    sense_adapted = adapted_lesk(sentence, word)\n",
    "    print(\"Def. adapted:\", sense_adapted.definition())\n",
    "\n",
    "    sense_cosine = cosine_lesk(sentence, word)\n",
    "    print(\"Def. cosine:\", sense_cosine.definition())\n",
    "\n",
    "    print()"
   ]
  }
 ],
 "metadata": {
  "kernelspec": {
   "display_name": "Python 3",
   "language": "python",
   "name": "python3"
  },
  "language_info": {
   "codemirror_mode": {
    "name": "ipython",
    "version": 3
   },
   "file_extension": ".py",
   "mimetype": "text/x-python",
   "name": "python",
   "nbconvert_exporter": "python",
   "pygments_lexer": "ipython3",
   "version": "3.12.5"
  }
 },
 "nbformat": 4,
 "nbformat_minor": 2
}
