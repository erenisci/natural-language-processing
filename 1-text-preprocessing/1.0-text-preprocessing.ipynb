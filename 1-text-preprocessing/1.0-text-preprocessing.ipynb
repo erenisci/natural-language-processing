{
 "cells": [
  {
   "cell_type": "markdown",
   "metadata": {},
   "source": [
    "### Text Preprocessing\n",
    "The first and very important stage of the NLP process is Preprocessing. Raw text data goes through several steps before being converted into a format that computers can understand and process. These steps are performed to clean, correct, and shape the data. By doing so, it helps improve the accuracy and efficiency of the model.\n",
    "\n",
    "\n",
    "![text-preprocessing](../images/1/1-text-preprocessing.png)"
   ]
  },
  {
   "cell_type": "markdown",
   "metadata": {},
   "source": [
    "---"
   ]
  },
  {
   "cell_type": "markdown",
   "metadata": {},
   "source": [
    "#### Text Preprocessing Steps:"
   ]
  },
  {
   "cell_type": "markdown",
   "metadata": {},
   "source": [
    "- Lowercasing: \n",
    "  * All letters in the text are converted to lowercase. This prevents words like \"Dog\" and \"dog\" from being treated as different entities despite having the same meaning."
   ]
  },
  {
   "cell_type": "markdown",
   "metadata": {},
   "source": [
    "- Removing Special Characters and Numbers: \n",
    "  * Unnecessary special characters (such as \"@\", \"#\", \"%\") and numbers that do not aid the model’s understanding are removed. This step cleans up elements that do not change the meaning of the text."
   ]
  },
  {
   "cell_type": "markdown",
   "metadata": {},
   "source": [
    "- Removing Stop Words: \n",
    "  * Stop words are words that do not carry significant meaning and do not notably change the text’s meaning (such as \"and\", \"a\", \"the\", \"for\"). These words are removed in most NLP applications."
   ]
  },
  {
   "cell_type": "markdown",
   "metadata": {},
   "source": [
    "- Whitespace Removal:  \n",
    "  * Extra spaces, especially unnecessary spaces between sentences, are removed to ensure the text is processed correctly."
   ]
  },
  {
   "cell_type": "markdown",
   "metadata": {},
   "source": [
    "- Punctuation Removal: \n",
    "  * Punctuation marks (., ?, !, :) are sometimes removed as they do not add meaning during analysis. However, in some cases (such as question marks indicating questions or punctuation indicating sentence endings), these marks may retain significance, and thus, they are removed only when necessary."
   ]
  },
  {
   "cell_type": "markdown",
   "metadata": {},
   "source": [
    "- Spelling Correction:\n",
    "  * Spelling errors in the text are corrected to obtain cleaner and more accurate data. In NLP applications, automatic spell checkers (e.g., TextBlob or Hunspell) are used to correct misspelled words."
   ]
  },
  {
   "cell_type": "markdown",
   "metadata": {},
   "source": [
    "- Removing HTML Tags and URLs:\n",
    "  * HTML tags (such as \\<p>, \\<div>, \\<br>) and URLs (e.g., www.site.com) are removed from the text to obtain clean content."
   ]
  },
  {
   "cell_type": "markdown",
   "metadata": {},
   "source": [
    "- Tokenization: \n",
    "  * Tokenization is the process of splitting the text into meaningful units (words, sentences). For example, the sentence \"Dogs are very cute\" would be split into tokens like \"Dogs\", \"are\", \"very\", \"cute\". This makes processing and understanding each token easier."
   ]
  },
  {
   "cell_type": "markdown",
   "metadata": {},
   "source": [
    "- Stemming:\n",
    "  * Stemming is the process of converting or reducing inflected words to their root form. In this method, suffixes are removed from the inflected word, so it becomes its root form.\n",
    "  \n",
    "    For example, from the word \"Going,\" the \"ing\" suffix is removed, and the inflected word \"Going\" becomes the root form \"Go.\""
   ]
  },
  {
   "cell_type": "markdown",
   "metadata": {},
   "source": [
    "- Lemmatization:\n",
    "  * Lemmatization is the process of converting words to their root forms by understanding the context of the word in the sentence. Unlike stemming, which simply removes suffixes, lemmatization takes the meaning of the word into account and returns the word to its correct base form (lemma).\n",
    "    \n",
    "    For example, \"went\" is lemmatized to \"go,\" because \"went\" is the past tense of \"go.\""
   ]
  },
  {
   "cell_type": "markdown",
   "metadata": {},
   "source": [
    "- Language Normalization: \n",
    "  * Texts in different languages may undergo language-specific transformations, such as removing accent marks or normalizing letter variations."
   ]
  },
  {
   "cell_type": "markdown",
   "metadata": {},
   "source": [
    "- TF-IDF (Term Frequency-Inverse Document Frequency) Calculation: \n",
    "  * This method identifies important words in a text by calculating the frequency of words (TF) and the rarity of the word across documents (IDF). It highlights words that are more likely to carry meaning within the text."
   ]
  },
  {
   "cell_type": "markdown",
   "metadata": {},
   "source": [
    "These steps are especially important when working with machine learning models and deep learning algorithms. Properly preprocessed data allows the model to work more efficiently, leading to improved overall accuracy."
   ]
  }
 ],
 "metadata": {
  "kernelspec": {
   "display_name": "Python 3",
   "language": "python",
   "name": "python3"
  },
  "language_info": {
   "name": "python",
   "version": "3.12.5"
  }
 },
 "nbformat": 4,
 "nbformat_minor": 2
}
